{
 "cells": [
  {
   "cell_type": "code",
   "execution_count": 174,
   "metadata": {},
   "outputs": [],
   "source": [
    "import tensorflow as tf\n",
    "import tensorflow.keras.backend as K\n",
    "from tensorflow.keras.datasets import mnist\n",
    "from tensorflow.keras.utils import to_categorical\n",
    "import numpy as np\n",
    "import matplotlib as mpl\n",
    "import matplotlib.pyplot as plt\n",
    "from nn_robust_attacks.l2_attack import CarliniL2\n",
    "from nn_robust_attacks.setup_mnist import MNIST, MNISTModel"
   ]
  },
  {
   "cell_type": "code",
   "execution_count": 175,
   "metadata": {},
   "outputs": [],
   "source": [
    "sess = tf.Session(config=tf.ConfigProto())\n",
    "K.set_session(sess)\n",
    "\n",
    "data = MNIST()\n",
    "\n",
    "class MNIST_Model:\n",
    "    def __init__(self, session=None):\n",
    "        self.num_channels = 1\n",
    "        self.image_size = 28\n",
    "        self.num_labels = 10\n",
    "\n",
    "        model = Sequential()\n",
    "\n",
    "        model.add(Conv2D(32, (3, 3),\n",
    "                         input_shape=(28, 28, 1)))\n",
    "        model.add(Activation('relu'))\n",
    "        model.add(Conv2D(32, (3, 3)))\n",
    "        model.add(Activation('relu'))\n",
    "        model.add(MaxPooling2D(pool_size=(2, 2)))\n",
    "\n",
    "        model.add(Conv2D(64, (3, 3)))\n",
    "        model.add(Activation('relu'))\n",
    "        model.add(Conv2D(64, (3, 3)))\n",
    "        model.add(Activation('relu'))\n",
    "        model.add(MaxPooling2D(pool_size=(2, 2)))\n",
    "\n",
    "        model.add(Flatten())\n",
    "        model.add(Dense(200))\n",
    "        model.add(Activation('relu'))\n",
    "        model.add(Dense(200))\n",
    "        model.add(Activation('relu'))\n",
    "        model.add(Dense(10))\n",
    "\n",
    "        self.model = model\n",
    "\n",
    "    def predict(self, data):\n",
    "        return self.model(data)"
   ]
  },
  {
   "cell_type": "code",
   "execution_count": 176,
   "metadata": {},
   "outputs": [],
   "source": [
    "num_epochs = 5\n",
    "batch_size = 128\n",
    "train_temp = 1\n",
    "\n",
    "training = False"
   ]
  },
  {
   "cell_type": "code",
   "execution_count": 177,
   "metadata": {},
   "outputs": [
    {
     "name": "stdout",
     "output_type": "stream",
     "text": [
      "Model: \"sequential_13\"\n",
      "_________________________________________________________________\n",
      "Layer (type)                 Output Shape              Param #   \n",
      "=================================================================\n",
      "conv2d_45 (Conv2D)           (None, 26, 26, 32)        320       \n",
      "_________________________________________________________________\n",
      "activation_73 (Activation)   (None, 26, 26, 32)        0         \n",
      "_________________________________________________________________\n",
      "conv2d_46 (Conv2D)           (None, 24, 24, 32)        9248      \n",
      "_________________________________________________________________\n",
      "activation_74 (Activation)   (None, 24, 24, 32)        0         \n",
      "_________________________________________________________________\n",
      "max_pooling2d_23 (MaxPooling (None, 12, 12, 32)        0         \n",
      "_________________________________________________________________\n",
      "conv2d_47 (Conv2D)           (None, 10, 10, 64)        18496     \n",
      "_________________________________________________________________\n",
      "activation_75 (Activation)   (None, 10, 10, 64)        0         \n",
      "_________________________________________________________________\n",
      "conv2d_48 (Conv2D)           (None, 8, 8, 64)          36928     \n",
      "_________________________________________________________________\n",
      "activation_76 (Activation)   (None, 8, 8, 64)          0         \n",
      "_________________________________________________________________\n",
      "max_pooling2d_24 (MaxPooling (None, 4, 4, 64)          0         \n",
      "_________________________________________________________________\n",
      "flatten_12 (Flatten)         (None, 1024)              0         \n",
      "_________________________________________________________________\n",
      "dense_34 (Dense)             (None, 200)               205000    \n",
      "_________________________________________________________________\n",
      "activation_77 (Activation)   (None, 200)               0         \n",
      "_________________________________________________________________\n",
      "dense_35 (Dense)             (None, 200)               40200     \n",
      "_________________________________________________________________\n",
      "activation_78 (Activation)   (None, 200)               0         \n",
      "_________________________________________________________________\n",
      "dense_36 (Dense)             (None, 10)                2010      \n",
      "=================================================================\n",
      "Total params: 312,202\n",
      "Trainable params: 312,202\n",
      "Non-trainable params: 0\n",
      "_________________________________________________________________\n"
     ]
    }
   ],
   "source": [
    "from keras.models import load_model\n",
    "\n",
    "def fn(correct, predicted):\n",
    "    return tf.nn.softmax_cross_entropy_with_logits(labels=correct,\n",
    "                                                   logits=predicted/train_temp)\n",
    "\n",
    "# Train first model \n",
    "modelname = \"models/trained_model1\"\n",
    "model1 = MNIST_Model()\n",
    "if training:            \n",
    "    sgd = SGD(lr=0.01, decay=1e-6, momentum=0.9, nesterov=True)\n",
    "    model1.model.compile(loss=fn,\n",
    "                  optimizer=sgd,\n",
    "                  metrics=['accuracy'])\n",
    "    model1.model.fit(data.train_data, data.train_labels,\n",
    "              batch_size=batch_size,\n",
    "              validation_data=(data.validation_data, data.validation_labels),\n",
    "              nb_epoch=num_epochs,\n",
    "              shuffle=True)\n",
    "    \n",
    "    model1.model.save(modelname)\n",
    "    \n",
    "else:\n",
    "    model1.model = load_model(modelname, custom_objects={'fn':fn})\n",
    "        \n",
    "model1.model.summary()"
   ]
  },
  {
   "cell_type": "code",
   "execution_count": 178,
   "metadata": {},
   "outputs": [
    {
     "name": "stdout",
     "output_type": "stream",
     "text": [
      "Model: \"sequential_14\"\n",
      "_________________________________________________________________\n",
      "Layer (type)                 Output Shape              Param #   \n",
      "=================================================================\n",
      "conv2d_49 (Conv2D)           (None, 26, 26, 32)        320       \n",
      "_________________________________________________________________\n",
      "activation_79 (Activation)   (None, 26, 26, 32)        0         \n",
      "_________________________________________________________________\n",
      "conv2d_50 (Conv2D)           (None, 24, 24, 32)        9248      \n",
      "_________________________________________________________________\n",
      "activation_80 (Activation)   (None, 24, 24, 32)        0         \n",
      "_________________________________________________________________\n",
      "max_pooling2d_25 (MaxPooling (None, 12, 12, 32)        0         \n",
      "_________________________________________________________________\n",
      "conv2d_51 (Conv2D)           (None, 10, 10, 64)        18496     \n",
      "_________________________________________________________________\n",
      "activation_81 (Activation)   (None, 10, 10, 64)        0         \n",
      "_________________________________________________________________\n",
      "conv2d_52 (Conv2D)           (None, 8, 8, 64)          36928     \n",
      "_________________________________________________________________\n",
      "activation_82 (Activation)   (None, 8, 8, 64)          0         \n",
      "_________________________________________________________________\n",
      "max_pooling2d_26 (MaxPooling (None, 4, 4, 64)          0         \n",
      "_________________________________________________________________\n",
      "flatten_13 (Flatten)         (None, 1024)              0         \n",
      "_________________________________________________________________\n",
      "dense_37 (Dense)             (None, 200)               205000    \n",
      "_________________________________________________________________\n",
      "activation_83 (Activation)   (None, 200)               0         \n",
      "_________________________________________________________________\n",
      "dense_38 (Dense)             (None, 200)               40200     \n",
      "_________________________________________________________________\n",
      "activation_84 (Activation)   (None, 200)               0         \n",
      "_________________________________________________________________\n",
      "dense_39 (Dense)             (None, 10)                2010      \n",
      "=================================================================\n",
      "Total params: 312,202\n",
      "Trainable params: 312,202\n",
      "Non-trainable params: 0\n",
      "_________________________________________________________________\n"
     ]
    }
   ],
   "source": [
    "# Train second model \n",
    "modelname = \"models/trained_model2\"\n",
    "if training:\n",
    "    model2 = MNIST_Model()\n",
    "            \n",
    "    sgd = SGD(lr=0.01, decay=1e-6, momentum=0.9, nesterov=True)\n",
    "    model2.model.compile(loss=fn,\n",
    "                  optimizer=sgd,\n",
    "                  metrics=['accuracy'])\n",
    "    model2.model.fit(data.train_data, data.train_labels,\n",
    "              batch_size=batch_size,\n",
    "              validation_data=(data.validation_data, data.validation_labels),\n",
    "              nb_epoch=num_epochs,\n",
    "              shuffle=True)\n",
    "    \n",
    "    model2.model.save(modelname)\n",
    "    \n",
    "else:\n",
    "    model2.model = load_model(modelname, custom_objects={'fn':fn})\n",
    "    \n",
    "model2.model.summary()"
   ]
  },
  {
   "cell_type": "code",
   "execution_count": 179,
   "metadata": {},
   "outputs": [
    {
     "name": "stdout",
     "output_type": "stream",
     "text": [
      "10000/10000 [==============================] - 2s 203us/step\n",
      "loss=0.24138298530429603, accuracy=0.9215999841690063\n"
     ]
    }
   ],
   "source": [
    "# Pernn_robust_attacks of first model\n",
    "scores = model1.model.evaluate(x_test, y_test)\n",
    "print(\"loss={}, accuracy={}\".format(*scores))"
   ]
  },
  {
   "cell_type": "code",
   "execution_count": 180,
   "metadata": {},
   "outputs": [
    {
     "name": "stdout",
     "output_type": "stream",
     "text": [
      "10000/10000 [==============================] - 2s 205us/step\n",
      "loss=0.1333903110517189, accuracy=0.9563000202178955\n"
     ]
    }
   ],
   "source": [
    "# Performance of second model\n",
    "scores = model2.model.evaluate(x_test, y_test)\n",
    "print(\"loss={}, accuracy={}\".format(*scores))"
   ]
  },
  {
   "cell_type": "code",
   "execution_count": 186,
   "metadata": {},
   "outputs": [
    {
     "ename": "TypeError",
     "evalue": "__init__() got an unexpected keyword argument 'model2'",
     "output_type": "error",
     "traceback": [
      "\u001b[0;31m---------------------------------------------------------------------------\u001b[0m",
      "\u001b[0;31mTypeError\u001b[0m                                 Traceback (most recent call last)",
      "\u001b[0;32m<ipython-input-186-12539a5e0ed5>\u001b[0m in \u001b[0;36m<module>\u001b[0;34m\u001b[0m\n\u001b[1;32m      3\u001b[0m                    \u001b[0mmax_iterations\u001b[0m\u001b[0;34m=\u001b[0m\u001b[0;36m1000\u001b[0m\u001b[0;34m,\u001b[0m\u001b[0;34m\u001b[0m\u001b[0;34m\u001b[0m\u001b[0m\n\u001b[1;32m      4\u001b[0m                    \u001b[0mconfidence\u001b[0m\u001b[0;34m=\u001b[0m\u001b[0;36m0\u001b[0m\u001b[0;34m,\u001b[0m\u001b[0;34m\u001b[0m\u001b[0;34m\u001b[0m\u001b[0m\n\u001b[0;32m----> 5\u001b[0;31m                    model2=model2)\n\u001b[0m",
      "\u001b[0;31mTypeError\u001b[0m: __init__() got an unexpected keyword argument 'model2'"
     ]
    }
   ],
   "source": [
    "attack = CarliniL2(sess, \n",
    "                   model1,\n",
    "                   max_iterations=1000, \n",
    "                   confidence=0,\n",
    "                   model2=model2)"
   ]
  },
  {
   "cell_type": "code",
   "execution_count": 131,
   "metadata": {},
   "outputs": [],
   "source": [
    "def generate_data(data, samples, targeted=True, start=0, inception=False):\n",
    "    \"\"\"\n",
    "    Generate the input data to the attack algorithm.\n",
    "    data: the images to attack\n",
    "    samples: number of samples to use\n",
    "    targeted: if true, construct targeted attacks, otherwise untargeted attacks\n",
    "    start: offset into data to use\n",
    "    inception: if targeted and inception, randomly sample 100 targets intead of 1000\n",
    "    \"\"\"\n",
    "    inputs = []\n",
    "    targets = []\n",
    "    for i in range(samples):\n",
    "        if targeted:\n",
    "            if inception:\n",
    "                seq = random.sample(range(1,1001), 10)\n",
    "            else:\n",
    "                #seq = range(data.test_labels.shape[1])\n",
    "                seq = range(1)\n",
    "\n",
    "            for j in seq:\n",
    "                if (j == np.argmax(data.test_labels[start+i])) and (inception == False):\n",
    "                    continue\n",
    "                inputs.append(data.test_data[start+i])\n",
    "                targets.append(np.eye(data.test_labels.shape[1])[j])\n",
    "        else:\n",
    "            inputs.append(data.test_data[start+i])\n",
    "            targets.append(data.test_labels[start+i])\n",
    "\n",
    "    inputs = np.array(inputs)\n",
    "    targets = np.array(targets)\n",
    "\n",
    "    return inputs, targets\n",
    "\n",
    "\n",
    "inputs, targets = generate_data(data, \n",
    "                                samples=1, \n",
    "                                targeted=True, \n",
    "                                start=0, \n",
    "                                inception=False)"
   ]
  },
  {
   "cell_type": "code",
   "execution_count": 166,
   "metadata": {},
   "outputs": [
    {
     "name": "stdout",
     "output_type": "stream",
     "text": [
      "Target 0\n"
     ]
    },
    {
     "data": {
      "text/plain": [
       "<Figure size 432x288 with 0 Axes>"
      ]
     },
     "metadata": {},
     "output_type": "display_data"
    },
    {
     "data": {
      "image/png": "[encoded data removed]",
      "text/plain": [
       "<Figure size 432x288 with 1 Axes>"
      ]
     },
     "metadata": {
      "needs_background": "light"
     },
     "output_type": "display_data"
    }
   ],
   "source": [
    "inp = inputs[0][:, :, 0]\n",
    "plt.set_cmap('Greys_r')\n",
    "plt.figure()\n",
    "plt.imshow(inp)\n",
    "print('Target', np.where(targets[0]==1)[0][0])"
   ]
  },
  {
   "cell_type": "code",
   "execution_count": 161,
   "metadata": {},
   "outputs": [
    {
     "name": "stdout",
     "output_type": "stream",
     "text": [
      "go up to 1\n",
      "tick 0\n",
      "[10000000000.0]\n",
      "0 (0.021236112, 0.020300826, 0.0009352869)\n",
      "1000 (0.02035297, 0.020350194, 2.7775473e-06)\n",
      "2000 (0.020353276, 0.02034866, 4.616304e-06)\n",
      "[10000000000.0]\n",
      "0 (0.20396885, 0.20300537, 0.00096348237)\n",
      "1000 (0.20312768, 0.20269905, 0.00042863574)\n",
      "2000 (0.20311886, 0.20267265, 0.00044622264)\n",
      "[10000000000.0]\n",
      "0 (2.0310178, 2.030051, 0.0009667443)\n",
      "1000 (1.9872005, 1.9346455, 0.05255501)\n",
      "2000 (1.9871924, 1.9346651, 0.052527353)\n",
      "[10000000000.0]\n",
      "0 (20.301468, 20.3005, 0.00096708065)\n",
      "1000 (8.163737, 0.016043663, 8.147694)\n",
      "2000 (8.158071, 0.031826735, 8.126244)\n",
      "3000 (8.160954, 0.0425272, 8.118427)\n",
      "[8.14546]\n",
      "0 (11.166243, 11.165276, 0.00096704916)\n",
      "1000 (9.22063, 6.750702, 2.4699278)\n",
      "2000 (9.220194, 6.7490997, 2.4710937)\n",
      "[8.14546]\n",
      "0 (15.733856, 15.732889, 0.0009670692)\n",
      "1000 (8.16138, 0.030899636, 8.13048)\n",
      "2000 (8.179038, 0.14667317, 8.032365)\n",
      "[8.14546]\n",
      "0 (13.45005, 13.449083, 0.0009670607)\n",
      "1000 (8.169632, 0.19052571, 7.979106)\n",
      "2000 (8.160476, 0.1810887, 7.979387)\n",
      "3000 (8.159109, 0.16213031, 7.9969788)\n",
      "4000 (8.16342, 0.15689656, 8.006523)\n",
      "5000 (8.156017, 0.07234358, 8.0836735)\n",
      "6000 (8.159694, 0.12037546, 8.039318)\n",
      "[8.14546]\n",
      "0 (12.308146, 12.307179, 0.0009670549)\n",
      "1000 (8.593792, 2.5823865, 6.011405)\n",
      "2000 (8.593392, 2.5841024, 6.0092897)\n",
      "3000 (8.592499, 2.5722308, 6.0202675)\n",
      "4000 (8.589331, 2.571776, 6.017555)\n",
      "5000 (8.589148, 2.5834212, 6.005726)\n",
      "[8.14546]\n",
      "0 (12.879098, 12.878131, 0.0009670582)\n",
      "1000 (8.13532, 0.42994046, 7.7053795)\n",
      "2000 (8.126927, 0.36731112, 7.759616)\n",
      "3000 (8.114499, 0.18247062, 7.9320283)\n",
      "4000 (8.108943, 0.11408953, 7.994853)\n",
      "5000 (8.12085, 0.34023902, 7.7806106)\n"
     ]
    }
   ],
   "source": [
    "adv = CarliniL2(sess, model1).attack(inputs, targets)"
   ]
  },
  {
   "cell_type": "code",
   "execution_count": 167,
   "metadata": {},
   "outputs": [
    {
     "name": "stdout",
     "output_type": "stream",
     "text": [
      "Valid:\n"
     ]
    },
    {
     "data": {
      "text/plain": [
       "<matplotlib.image.AxesImage at 0x7fe3570f3940>"
      ]
     },
     "execution_count": 167,
     "metadata": {},
     "output_type": "execute_result"
    },
    {
     "data": {
      "image/png": "[encoded data removed]",
      "text/plain": [
       "<Figure size 432x288 with 1 Axes>"
      ]
     },
     "metadata": {
      "needs_background": "light"
     },
     "output_type": "display_data"
    }
   ],
   "source": [
    "print(\"Valid:\")\n",
    "plt.imshow(inputs[i][:,:,0])"
   ]
  },
  {
   "cell_type": "code",
   "execution_count": 168,
   "metadata": {},
   "outputs": [
    {
     "name": "stdout",
     "output_type": "stream",
     "text": [
      "Adversarial:\n"
     ]
    },
    {
     "data": {
      "text/plain": [
       "<matplotlib.image.AxesImage at 0x7fe3570d0978>"
      ]
     },
     "execution_count": 168,
     "metadata": {},
     "output_type": "execute_result"
    },
    {
     "data": {
      "image/png": "[encoded data removed]",
      "text/plain": [
       "<Figure size 432x288 with 1 Axes>"
      ]
     },
     "metadata": {
      "needs_background": "light"
     },
     "output_type": "display_data"
    }
   ],
   "source": [
    "print(\"Adversarial:\")\n",
    "plt.imshow(adv[i][:,:,0])"
   ]
  },
  {
   "cell_type": "code",
   "execution_count": null,
   "metadata": {},
   "outputs": [],
   "source": []
  }
 ],
 "metadata": {
  "kernelspec": {
   "display_name": "Python 3",
   "language": "python",
   "name": "python3"
  },
  "language_info": {
   "codemirror_mode": {
    "name": "ipython",
    "version": 3
   },
   "file_extension": ".py",
   "mimetype": "text/x-python",
   "name": "python",
   "nbconvert_exporter": "python",
   "pygments_lexer": "ipython3",
   "version": "3.6.8"
  }
 },
 "nbformat": 4,
 "nbformat_minor": 4
}
