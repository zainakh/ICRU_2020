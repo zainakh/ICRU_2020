{
 "cells": [
  {
   "cell_type": "code",
   "execution_count": 1,
   "metadata": {},
   "outputs": [
    {
     "name": "stderr",
     "output_type": "stream",
     "text": [
      "Using TensorFlow backend.\n"
     ]
    }
   ],
   "source": [
    "import tensorflow as tf\n",
    "import tensorflow.keras.backend as K\n",
    "from tensorflow.keras.datasets import mnist\n",
    "from tensorflow.keras.utils import to_categorical\n",
    "import numpy as np\n",
    "import matplotlib as mpl\n",
    "import matplotlib.pyplot as plt\n",
    "from nn_robust_attacks.setup_mnist import MNIST, MNISTModel"
   ]
  },
  {
   "cell_type": "code",
   "execution_count": 2,
   "metadata": {},
   "outputs": [],
   "source": [
    "sess = tf.Session(config=tf.ConfigProto())\n",
    "K.set_session(sess)\n",
    "\n",
    "data = MNIST()\n",
    "\n",
    "class MNIST_Model:\n",
    "    def __init__(self, session=None):\n",
    "        self.num_channels = 1\n",
    "        self.image_size = 28\n",
    "        self.num_labels = 10\n",
    "\n",
    "        model = Sequential()\n",
    "\n",
    "        model.add(Conv2D(32, (3, 3),\n",
    "                         input_shape=(28, 28, 1)))\n",
    "        model.add(Activation('relu'))\n",
    "        model.add(Conv2D(32, (3, 3)))\n",
    "        model.add(Activation('relu'))\n",
    "        model.add(MaxPooling2D(pool_size=(2, 2)))\n",
    "\n",
    "        model.add(Conv2D(64, (3, 3)))\n",
    "        model.add(Activation('relu'))\n",
    "        model.add(Conv2D(64, (3, 3)))\n",
    "        model.add(Activation('relu'))\n",
    "        model.add(MaxPooling2D(pool_size=(2, 2)))\n",
    "\n",
    "        model.add(Flatten())\n",
    "        model.add(Dense(200))\n",
    "        model.add(Activation('relu'))\n",
    "        model.add(Dense(200))\n",
    "        model.add(Activation('relu'))\n",
    "        model.add(Dense(10))\n",
    "\n",
    "        self.model = model\n",
    "\n",
    "    def predict(self, data):\n",
    "        return self.model(data)"
   ]
  },
  {
   "cell_type": "code",
   "execution_count": 3,
   "metadata": {},
   "outputs": [],
   "source": [
    "num_epochs = 10\n",
    "batch_size = 128\n",
    "train_temp = 1\n",
    "\n",
    "training = False"
   ]
  },
  {
   "cell_type": "code",
   "execution_count": 4,
   "metadata": {},
   "outputs": [
    {
     "name": "stdout",
     "output_type": "stream",
     "text": [
      "WARNING:tensorflow:From /home/zainkhan/.local/share/virtualenvs/xu-jXQ59E2g/lib/python3.6/site-packages/keras/backend/tensorflow_backend.py:4070: The name tf.nn.max_pool is deprecated. Please use tf.nn.max_pool2d instead.\n",
      "\n",
      "WARNING:tensorflow:From <ipython-input-4-7f54ad202288>:7: softmax_cross_entropy_with_logits (from tensorflow.python.ops.nn_ops) is deprecated and will be removed in a future version.\n",
      "Instructions for updating:\n",
      "\n",
      "Future major versions of TensorFlow will allow gradients to flow\n",
      "into the labels input on backprop by default.\n",
      "\n",
      "See `tf.nn.softmax_cross_entropy_with_logits_v2`.\n",
      "\n",
      "WARNING:tensorflow:From /home/zainkhan/.local/share/virtualenvs/xu-jXQ59E2g/lib/python3.6/site-packages/keras/backend/tensorflow_backend.py:422: The name tf.global_variables is deprecated. Please use tf.compat.v1.global_variables instead.\n",
      "\n",
      "Model: \"sequential_5\"\n",
      "_________________________________________________________________\n",
      "Layer (type)                 Output Shape              Param #   \n",
      "=================================================================\n",
      "conv2d_17 (Conv2D)           (None, 26, 26, 32)        320       \n",
      "_________________________________________________________________\n",
      "activation_25 (Activation)   (None, 26, 26, 32)        0         \n",
      "_________________________________________________________________\n",
      "conv2d_18 (Conv2D)           (None, 24, 24, 32)        9248      \n",
      "_________________________________________________________________\n",
      "activation_26 (Activation)   (None, 24, 24, 32)        0         \n",
      "_________________________________________________________________\n",
      "max_pooling2d_9 (MaxPooling2 (None, 12, 12, 32)        0         \n",
      "_________________________________________________________________\n",
      "conv2d_19 (Conv2D)           (None, 10, 10, 64)        18496     \n",
      "_________________________________________________________________\n",
      "activation_27 (Activation)   (None, 10, 10, 64)        0         \n",
      "_________________________________________________________________\n",
      "conv2d_20 (Conv2D)           (None, 8, 8, 64)          36928     \n",
      "_________________________________________________________________\n",
      "activation_28 (Activation)   (None, 8, 8, 64)          0         \n",
      "_________________________________________________________________\n",
      "max_pooling2d_10 (MaxPooling (None, 4, 4, 64)          0         \n",
      "_________________________________________________________________\n",
      "flatten_5 (Flatten)          (None, 1024)              0         \n",
      "_________________________________________________________________\n",
      "dense_13 (Dense)             (None, 200)               205000    \n",
      "_________________________________________________________________\n",
      "activation_29 (Activation)   (None, 200)               0         \n",
      "_________________________________________________________________\n",
      "dense_14 (Dense)             (None, 200)               40200     \n",
      "_________________________________________________________________\n",
      "activation_30 (Activation)   (None, 200)               0         \n",
      "_________________________________________________________________\n",
      "dense_15 (Dense)             (None, 10)                2010      \n",
      "=================================================================\n",
      "Total params: 312,202\n",
      "Trainable params: 312,202\n",
      "Non-trainable params: 0\n",
      "_________________________________________________________________\n"
     ]
    }
   ],
   "source": [
    "from keras.models import load_model, Sequential\n",
    "from keras.layers import Dense, Activation, Conv2D, MaxPooling2D, Flatten\n",
    "from keras.optimizers import SGD\n",
    "\n",
    "def fn(correct, predicted):\n",
    "    return tf.nn.softmax_cross_entropy_with_logits(labels=correct,\n",
    "                                                   logits=predicted/train_temp)\n",
    "\n",
    "# Train first model \n",
    "modelname = \"models/trained_model1\"\n",
    "model1 = MNIST_Model()\n",
    "if training:            \n",
    "    sgd = SGD(lr=0.01, decay=1e-6, momentum=0.9, nesterov=True)\n",
    "    model1.model.compile(loss=fn,\n",
    "                  optimizer=sgd,\n",
    "                  metrics=['accuracy'])\n",
    "    model1.model.fit(data.train_data, data.train_labels,\n",
    "              batch_size=batch_size,\n",
    "              validation_data=(data.validation_data, data.validation_labels),\n",
    "              nb_epoch=num_epochs,\n",
    "              shuffle=True)\n",
    "    \n",
    "    model1.model.save(modelname)\n",
    "    \n",
    "else:\n",
    "    model1.model = load_model(modelname, custom_objects={'fn':fn})\n",
    "        \n",
    "model1.model.summary()"
   ]
  },
  {
   "cell_type": "code",
   "execution_count": 5,
   "metadata": {},
   "outputs": [
    {
     "name": "stdout",
     "output_type": "stream",
     "text": [
      "Model: \"sequential_8\"\n",
      "_________________________________________________________________\n",
      "Layer (type)                 Output Shape              Param #   \n",
      "=================================================================\n",
      "conv2d_29 (Conv2D)           (None, 26, 26, 32)        320       \n",
      "_________________________________________________________________\n",
      "activation_43 (Activation)   (None, 26, 26, 32)        0         \n",
      "_________________________________________________________________\n",
      "conv2d_30 (Conv2D)           (None, 24, 24, 32)        9248      \n",
      "_________________________________________________________________\n",
      "activation_44 (Activation)   (None, 24, 24, 32)        0         \n",
      "_________________________________________________________________\n",
      "max_pooling2d_15 (MaxPooling (None, 12, 12, 32)        0         \n",
      "_________________________________________________________________\n",
      "conv2d_31 (Conv2D)           (None, 10, 10, 64)        18496     \n",
      "_________________________________________________________________\n",
      "activation_45 (Activation)   (None, 10, 10, 64)        0         \n",
      "_________________________________________________________________\n",
      "conv2d_32 (Conv2D)           (None, 8, 8, 64)          36928     \n",
      "_________________________________________________________________\n",
      "activation_46 (Activation)   (None, 8, 8, 64)          0         \n",
      "_________________________________________________________________\n",
      "max_pooling2d_16 (MaxPooling (None, 4, 4, 64)          0         \n",
      "_________________________________________________________________\n",
      "flatten_8 (Flatten)          (None, 1024)              0         \n",
      "_________________________________________________________________\n",
      "dense_22 (Dense)             (None, 200)               205000    \n",
      "_________________________________________________________________\n",
      "activation_47 (Activation)   (None, 200)               0         \n",
      "_________________________________________________________________\n",
      "dense_23 (Dense)             (None, 200)               40200     \n",
      "_________________________________________________________________\n",
      "activation_48 (Activation)   (None, 200)               0         \n",
      "_________________________________________________________________\n",
      "dense_24 (Dense)             (None, 10)                2010      \n",
      "=================================================================\n",
      "Total params: 312,202\n",
      "Trainable params: 312,202\n",
      "Non-trainable params: 0\n",
      "_________________________________________________________________\n"
     ]
    }
   ],
   "source": [
    "# Train second model \n",
    "modelname = \"models/trained_model2\"\n",
    "model2 = MNIST_Model()\n",
    "if training:            \n",
    "    sgd = SGD(lr=0.01, decay=1e-6, momentum=0.9, nesterov=True)\n",
    "    model2.model.compile(loss=fn,\n",
    "                  optimizer=sgd,\n",
    "                  metrics=['accuracy'])\n",
    "    model2.model.fit(data.train_data, data.train_labels,\n",
    "              batch_size=batch_size,\n",
    "              validation_data=(data.validation_data, data.validation_labels),\n",
    "              nb_epoch=num_epochs,\n",
    "              shuffle=True)\n",
    "    \n",
    "    model2.model.save(modelname)\n",
    "    \n",
    "else:\n",
    "    model2.model = load_model(modelname, custom_objects={'fn':fn})\n",
    "    \n",
    "model2.model.summary()"
   ]
  },
  {
   "cell_type": "code",
   "execution_count": 6,
   "metadata": {},
   "outputs": [
    {
     "name": "stdout",
     "output_type": "stream",
     "text": [
      "Model: \"sequential_7\"\n",
      "_________________________________________________________________\n",
      "Layer (type)                 Output Shape              Param #   \n",
      "=================================================================\n",
      "conv2d_25 (Conv2D)           (None, 26, 26, 32)        320       \n",
      "_________________________________________________________________\n",
      "activation_37 (Activation)   (None, 26, 26, 32)        0         \n",
      "_________________________________________________________________\n",
      "conv2d_26 (Conv2D)           (None, 24, 24, 32)        9248      \n",
      "_________________________________________________________________\n",
      "activation_38 (Activation)   (None, 24, 24, 32)        0         \n",
      "_________________________________________________________________\n",
      "max_pooling2d_13 (MaxPooling (None, 12, 12, 32)        0         \n",
      "_________________________________________________________________\n",
      "conv2d_27 (Conv2D)           (None, 10, 10, 64)        18496     \n",
      "_________________________________________________________________\n",
      "activation_39 (Activation)   (None, 10, 10, 64)        0         \n",
      "_________________________________________________________________\n",
      "conv2d_28 (Conv2D)           (None, 8, 8, 64)          36928     \n",
      "_________________________________________________________________\n",
      "activation_40 (Activation)   (None, 8, 8, 64)          0         \n",
      "_________________________________________________________________\n",
      "max_pooling2d_14 (MaxPooling (None, 4, 4, 64)          0         \n",
      "_________________________________________________________________\n",
      "flatten_7 (Flatten)          (None, 1024)              0         \n",
      "_________________________________________________________________\n",
      "dense_19 (Dense)             (None, 200)               205000    \n",
      "_________________________________________________________________\n",
      "activation_41 (Activation)   (None, 200)               0         \n",
      "_________________________________________________________________\n",
      "dense_20 (Dense)             (None, 200)               40200     \n",
      "_________________________________________________________________\n",
      "activation_42 (Activation)   (None, 200)               0         \n",
      "_________________________________________________________________\n",
      "dense_21 (Dense)             (None, 10)                2010      \n",
      "=================================================================\n",
      "Total params: 312,202\n",
      "Trainable params: 312,202\n",
      "Non-trainable params: 0\n",
      "_________________________________________________________________\n"
     ]
    }
   ],
   "source": [
    "# Train third model \n",
    "modelname = \"models/trained_model3\"\n",
    "model3 = MNIST_Model()\n",
    "if training:            \n",
    "    sgd = SGD(lr=0.01, decay=1e-6, momentum=0.9, nesterov=True)\n",
    "    model3.model.compile(loss=fn,\n",
    "                  optimizer=sgd,\n",
    "                  metrics=['accuracy'])\n",
    "    model3.model.fit(data.train_data, data.train_labels,\n",
    "              batch_size=batch_size,\n",
    "              validation_data=(data.validation_data, data.validation_labels),\n",
    "              nb_epoch=num_epochs,\n",
    "              shuffle=True)\n",
    "    \n",
    "    model3.model.save(modelname)\n",
    "    \n",
    "else:\n",
    "    model3.model = load_model(modelname, custom_objects={'fn':fn})\n",
    "    \n",
    "model3.model.summary()"
   ]
  },
  {
   "cell_type": "code",
   "execution_count": 7,
   "metadata": {},
   "outputs": [
    {
     "name": "stdout",
     "output_type": "stream",
     "text": [
      "Model: \"sequential_8\"\n",
      "_________________________________________________________________\n",
      "Layer (type)                 Output Shape              Param #   \n",
      "=================================================================\n",
      "conv2d_29 (Conv2D)           (None, 26, 26, 32)        320       \n",
      "_________________________________________________________________\n",
      "activation_43 (Activation)   (None, 26, 26, 32)        0         \n",
      "_________________________________________________________________\n",
      "conv2d_30 (Conv2D)           (None, 24, 24, 32)        9248      \n",
      "_________________________________________________________________\n",
      "activation_44 (Activation)   (None, 24, 24, 32)        0         \n",
      "_________________________________________________________________\n",
      "max_pooling2d_15 (MaxPooling (None, 12, 12, 32)        0         \n",
      "_________________________________________________________________\n",
      "conv2d_31 (Conv2D)           (None, 10, 10, 64)        18496     \n",
      "_________________________________________________________________\n",
      "activation_45 (Activation)   (None, 10, 10, 64)        0         \n",
      "_________________________________________________________________\n",
      "conv2d_32 (Conv2D)           (None, 8, 8, 64)          36928     \n",
      "_________________________________________________________________\n",
      "activation_46 (Activation)   (None, 8, 8, 64)          0         \n",
      "_________________________________________________________________\n",
      "max_pooling2d_16 (MaxPooling (None, 4, 4, 64)          0         \n",
      "_________________________________________________________________\n",
      "flatten_8 (Flatten)          (None, 1024)              0         \n",
      "_________________________________________________________________\n",
      "dense_22 (Dense)             (None, 200)               205000    \n",
      "_________________________________________________________________\n",
      "activation_47 (Activation)   (None, 200)               0         \n",
      "_________________________________________________________________\n",
      "dense_23 (Dense)             (None, 200)               40200     \n",
      "_________________________________________________________________\n",
      "activation_48 (Activation)   (None, 200)               0         \n",
      "_________________________________________________________________\n",
      "dense_24 (Dense)             (None, 10)                2010      \n",
      "=================================================================\n",
      "Total params: 312,202\n",
      "Trainable params: 312,202\n",
      "Non-trainable params: 0\n",
      "_________________________________________________________________\n"
     ]
    }
   ],
   "source": [
    "# Train fourth model \n",
    "modelname = \"models/trained_model4\"\n",
    "model4 = MNIST_Model()\n",
    "if training:            \n",
    "    sgd = SGD(lr=0.01, decay=1e-6, momentum=0.9, nesterov=True)\n",
    "    model4.model.compile(loss=fn,\n",
    "                  optimizer=sgd,\n",
    "                  metrics=['accuracy'])\n",
    "    model4.model.fit(data.train_data, data.train_labels,\n",
    "              batch_size=batch_size,\n",
    "              validation_data=(data.validation_data, data.validation_labels),\n",
    "              nb_epoch=num_epochs,\n",
    "              shuffle=True)\n",
    "    \n",
    "    model4.model.save(modelname)\n",
    "    \n",
    "else:\n",
    "    model4.model = load_model(modelname, custom_objects={'fn':fn})\n",
    "    \n",
    "model4.model.summary()"
   ]
  },
  {
   "cell_type": "code",
   "execution_count": 8,
   "metadata": {},
   "outputs": [],
   "source": [
    "from keras.datasets import mnist as data_keras\n",
    "from keras.utils import to_categorical\n",
    "\n",
    "(x_train, y_train), (x_test, y_test) = data_keras.load_data()\n",
    "x_train = x_train[...,np.newaxis] /255.0\n",
    "x_test = x_test[...,np.newaxis] / 255.0\n",
    "y_train = to_categorical(y_train)\n",
    "y_test = to_categorical(y_test)"
   ]
  },
  {
   "cell_type": "code",
   "execution_count": 9,
   "metadata": {},
   "outputs": [
    {
     "name": "stdout",
     "output_type": "stream",
     "text": [
      "10000/10000 [==============================] - 14s 1ms/step\n",
      "loss=0.060424025029380574, accuracy=0.9833999872207642\n",
      "10000/10000 [==============================] - 14s 1ms/step\n",
      "loss=0.060767219057303735, accuracy=0.9829999804496765\n",
      "10000/10000 [==============================] - 14s 1ms/step\n",
      "loss=0.1604284207782708, accuracy=0.9513999819755554\n",
      "10000/10000 [==============================] - 14s 1ms/step\n",
      "loss=0.06374289788251045, accuracy=0.979200005531311\n"
     ]
    }
   ],
   "source": [
    "# Performance of first model\n",
    "scores = model1.model.evaluate(x_test, y_test)\n",
    "print(\"loss={}, accuracy={}\".format(*scores))\n",
    "\n",
    "# Performance of second model\n",
    "scores = model2.model.evaluate(x_test, y_test)\n",
    "print(\"loss={}, accuracy={}\".format(*scores))\n",
    "\n",
    "# Performance of third model\n",
    "scores = model3.model.evaluate(x_test, y_test)\n",
    "print(\"loss={}, accuracy={}\".format(*scores))\n",
    "\n",
    "# Performance of fourth model\n",
    "scores = model4.model.evaluate(x_test, y_test)\n",
    "print(\"loss={}, accuracy={}\".format(*scores))"
   ]
  },
  {
   "cell_type": "code",
   "execution_count": 10,
   "metadata": {},
   "outputs": [],
   "source": [
    "test_size = 250\n",
    "num_img = test_size // 10\n",
    "trial_data = []\n",
    "indicies = []\n",
    "\n",
    "for i in range(0, 10):\n",
    "    trial_data.append([])\n",
    "    indicies.append([])\n",
    "    for idx, img in enumerate(data.test_data):\n",
    "        if np.nonzero(data.test_labels[idx])[0][0] == i:\n",
    "            trial_data[i].append(data.test_data[idx])\n",
    "            indicies[i].append(idx)\n",
    "        if len(trial_data[i]) >= num_img:\n",
    "            break"
   ]
  },
  {
   "cell_type": "code",
   "execution_count": 11,
   "metadata": {},
   "outputs": [],
   "source": [
    "import random\n",
    "target_data = []\n",
    "\n",
    "for i in range(0, 10):\n",
    "    target_data.append([])\n",
    "    for j in range(0, int(num_img)):\n",
    "        numbers = list(range(0, i)) + list(range(i + 1, 10))\n",
    "        r = random.choice(numbers)\n",
    "        target_data[i].append(r)"
   ]
  },
  {
   "cell_type": "code",
   "execution_count": 12,
   "metadata": {},
   "outputs": [],
   "source": [
    "target_labels = []\n",
    "for i in range(0, 10):\n",
    "    target_labels.append(to_categorical(target_data[i]))"
   ]
  },
  {
   "cell_type": "code",
   "execution_count": 13,
   "metadata": {},
   "outputs": [],
   "source": [
    "def get_label_confidence(image, model):\n",
    "    pr = model.predict(image)\n",
    "    print(pr)\n",
    "    image_class = model.predict_classes(image)\n",
    "    return 'Predicted {} : {:.7f}'.format(image_class[0], max(max(pr)))"
   ]
  },
  {
   "cell_type": "code",
   "execution_count": 14,
   "metadata": {},
   "outputs": [
    {
     "data": {
      "text/plain": [
       "<Figure size 432x288 with 0 Axes>"
      ]
     },
     "execution_count": 14,
     "metadata": {},
     "output_type": "execute_result"
    },
    {
     "data": {
      "text/plain": [
       "<Figure size 432x288 with 0 Axes>"
      ]
     },
     "metadata": {},
     "output_type": "display_data"
    },
    {
     "data": {
      "text/plain": [
       "<Figure size 432x288 with 0 Axes>"
      ]
     },
     "metadata": {},
     "output_type": "display_data"
    }
   ],
   "source": [
    "plt.set_cmap('Greys_r')\n",
    "plt.figure()"
   ]
  },
  {
   "cell_type": "code",
   "execution_count": 15,
   "metadata": {},
   "outputs": [],
   "source": [
    "true_label = 0\n",
    "inputs = np.asarray(trial_data[true_label])\n",
    "targets = target_labels[true_label]"
   ]
  },
  {
   "cell_type": "code",
   "execution_count": 21,
   "metadata": {},
   "outputs": [],
   "source": [
    "# Use same data for same experiment for transferability test\n",
    "targets = []\n",
    "targets.append(to_categorical(9))\n",
    "inputs = np.load('inputs_0.csv.npy')[0:1]"
   ]
  },
  {
   "cell_type": "code",
   "execution_count": 22,
   "metadata": {},
   "outputs": [
    {
     "name": "stdout",
     "output_type": "stream",
     "text": [
      "[array([0., 0., 0., 0., 0., 0., 0., 0., 0., 1.], dtype=float32)]\n"
     ]
    }
   ],
   "source": [
    "print(targets)"
   ]
  },
  {
   "cell_type": "code",
   "execution_count": 23,
   "metadata": {},
   "outputs": [
    {
     "name": "stdout",
     "output_type": "stream",
     "text": [
      "WARNING:tensorflow:From /home/zainkhan/research/xu/nn_robust_attacks/l2_attack_dual.py:79: The name tf.placeholder is deprecated. Please use tf.compat.v1.placeholder instead.\n",
      "\n",
      "WARNING:tensorflow:From /home/zainkhan/research/xu/nn_robust_attacks/l2_attack_dual.py:112: The name tf.train.AdamOptimizer is deprecated. Please use tf.compat.v1.train.AdamOptimizer instead.\n",
      "\n",
      "WARNING:tensorflow:From /home/zainkhan/.local/share/virtualenvs/xu-jXQ59E2g/lib/python3.6/site-packages/tensorflow/python/ops/math_grad.py:1250: add_dispatch_support.<locals>.wrapper (from tensorflow.python.ops.array_ops) is deprecated and will be removed in a future version.\n",
      "Instructions for updating:\n",
      "Use tf.where in 2.0, which has the same broadcast rule as np.where\n",
      "WARNING:tensorflow:From /home/zainkhan/research/xu/nn_robust_attacks/l2_attack_dual.py:123: The name tf.variables_initializer is deprecated. Please use tf.compat.v1.variables_initializer instead.\n",
      "\n",
      "go up to 1\n",
      "tick 0\n",
      "[10000000000.0]\n",
      "0 (0.021143615, 0.017088797, 0.0)\n",
      "1000 (0.017262759, 0.017253831, 0.0)\n",
      "2000 (0.01726816, 0.017253168, 0.0)\n",
      "[10000000000.0]\n",
      "0 (0.17502329, 0.17087747, 0.0)\n",
      "1000 (0.17173593, 0.17073584, 0.0)\n",
      "2000 (0.17174125, 0.17072748, 0.0)\n",
      "[10000000000.0]\n",
      "0 (1.7129292, 1.7087641, 0.0)\n",
      "1000 (1.6279509, 1.5288308, 0.0)\n",
      "2000 (1.6279336, 1.5287287, 0.0)\n",
      "[10000000000.0]\n",
      "0 (17.091793, 17.087626, 0.0)\n",
      "1000 (7.7528234, 0.8351494, 0.0)\n",
      "2000 (7.755621, 0.8455931, 0.029908428)\n",
      "3000 (7.786645, 0.754212, 0.08010114)\n",
      "[10000000000.0]\n",
      "0 (170.88039, 170.87622, 0.0)\n",
      "1000 (7.990629, 0.0, 0.0)\n",
      "2000 (8.269975, 0.0, 0.0)\n",
      "[7.7785873]\n",
      "0 (93.986084, 93.98192, 0.0)\n",
      "1000 (7.9434977, 0.0, 0.0)\n",
      "2000 (7.9009027, 0.0, 0.0)\n",
      "3000 (7.820803, 0.0, 0.0)\n",
      "4000 (7.6100273, 0.0, 0.0)\n",
      "5000 (7.568058, 0.0, 0.0)\n",
      "6000 (7.627735, 0.0, 0.0)\n",
      "[7.4976745]\n",
      "0 (55.538944, 55.534775, 0.0)\n",
      "1000 (7.678084, 0.049272135, 0.0)\n",
      "2000 (7.650261, 0.0, 0.0)\n",
      "3000 (7.6148243, 0.0, 0.0)\n",
      "[7.4976745]\n",
      "0 (36.315372, 36.311203, 0.0)\n",
      "1000 (7.5199175, 0.0061655017, 0.0)\n",
      "2000 (7.585811, 0.0, 0.0)\n",
      "[7.4604497]\n",
      "0 (26.703583, 26.699415, 0.0)\n",
      "1000 (7.8610463, 0.0, 0.041693836)\n",
      "2000 (7.563647, 0.091312975, 0.0011390221)\n",
      "3000 (7.548747, 0.05754322, 0.0)\n",
      "4000 (7.544212, 0.05345658, 0.0014528778)\n"
     ]
    }
   ],
   "source": [
    "from nn_robust_attacks.l2_attack_dual import CarliniL2\n",
    "\n",
    "adv = CarliniL2(sess, model1, model2).attack(inputs, targets)"
   ]
  },
  {
   "cell_type": "code",
   "execution_count": 24,
   "metadata": {},
   "outputs": [],
   "source": [
    "from numpy import savetxt\n",
    "\n",
    "np.save('1-1_inputs.csv', inputs)\n",
    "np.save('1-1_adv.csv', adv)"
   ]
  },
  {
   "cell_type": "code",
   "execution_count": 21,
   "metadata": {},
   "outputs": [
    {
     "name": "stdout",
     "output_type": "stream",
     "text": [
      "Valid:\n"
     ]
    },
    {
     "data": {
      "text/plain": [
       "<matplotlib.image.AxesImage at 0x7f1bf3b66470>"
      ]
     },
     "execution_count": 21,
     "metadata": {},
     "output_type": "execute_result"
    },
    {
     "data": {
      "image/png": "[encoded data removed]",
      "text/plain": [
       "<Figure size 432x288 with 1 Axes>"
      ]
     },
     "metadata": {
      "needs_background": "light"
     },
     "output_type": "display_data"
    }
   ],
   "source": [
    "print(\"Valid:\")\n",
    "plt.imshow(inputs[0][:,:,0])"
   ]
  },
  {
   "cell_type": "code",
   "execution_count": 22,
   "metadata": {},
   "outputs": [
    {
     "name": "stdout",
     "output_type": "stream",
     "text": [
      "Adversarial:\n"
     ]
    },
    {
     "data": {
      "text/plain": [
       "<matplotlib.image.AxesImage at 0x7f1bf369ca20>"
      ]
     },
     "execution_count": 22,
     "metadata": {},
     "output_type": "execute_result"
    },
    {
     "data": {
      "image/png": "[encoded data removed]",
      "text/plain": [
       "<Figure size 432x288 with 1 Axes>"
      ]
     },
     "metadata": {
      "needs_background": "light"
     },
     "output_type": "display_data"
    }
   ],
   "source": [
    "print(\"Adversarial:\")\n",
    "plt.imshow(adv[0][:,:,0])"
   ]
  },
  {
   "cell_type": "code",
   "execution_count": 23,
   "metadata": {},
   "outputs": [
    {
     "name": "stdout",
     "output_type": "stream",
     "text": [
      "Perturbation\n"
     ]
    },
    {
     "data": {
      "text/plain": [
       "<matplotlib.image.AxesImage at 0x7f1bf36072b0>"
      ]
     },
     "execution_count": 23,
     "metadata": {},
     "output_type": "execute_result"
    },
    {
     "data": {
      "image/png": "[encoded data removed]",
      "text/plain": [
       "<Figure size 432x288 with 1 Axes>"
      ]
     },
     "metadata": {
      "needs_background": "light"
     },
     "output_type": "display_data"
    }
   ],
   "source": [
    "print('Perturbation')\n",
    "plt.imshow(adv[0][:,:,0] - inputs[0][:,:,0])"
   ]
  },
  {
   "cell_type": "code",
   "execution_count": 24,
   "metadata": {},
   "outputs": [],
   "source": [
    "def get_label_confidence(image, model):\n",
    "    pr = model.predict(image)\n",
    "    pr = np.array([np.exp(x) for x in pr])\n",
    "    pr = pr / np.sum(pr)\n",
    "    image_class = model.predict_classes(image)\n",
    "    return 'Predicted {} : {:.7f}'.format(image_class[0], max(max(pr)))"
   ]
  },
  {
   "cell_type": "code",
   "execution_count": 25,
   "metadata": {},
   "outputs": [
    {
     "name": "stdout",
     "output_type": "stream",
     "text": [
      "0\n",
      "WARNING:tensorflow:From /home/zainkhan/.local/share/virtualenvs/xu-jXQ59E2g/lib/python3.6/site-packages/keras/backend/tensorflow_backend.py:431: The name tf.is_variable_initialized is deprecated. Please use tf.compat.v1.is_variable_initialized instead.\n",
      "\n",
      "Model 1 Predicted 8 : 0.2640118\n",
      "Model 2 Predicted 0 : 0.9835683\n",
      "1\n",
      "Model 1 Predicted 4 : 0.2831402\n",
      "Model 2 Predicted 0 : 0.8878421\n",
      "2\n",
      "Model 1 Predicted 2 : 0.4720687\n",
      "Model 2 Predicted 0 : 0.9878199\n",
      "3\n",
      "Model 1 Predicted 2 : 0.2582473\n",
      "Model 2 Predicted 0 : 0.9975262\n",
      "4\n",
      "Model 1 Predicted 1 : 0.1871089\n",
      "Model 2 Predicted 2 : 0.8981709\n",
      "5\n",
      "Model 1 Predicted 5 : 0.5000912\n",
      "Model 2 Predicted 0 : 0.9917195\n",
      "6\n",
      "Model 1 Predicted 7 : 0.4165046\n",
      "Model 2 Predicted 0 : 0.9971952\n",
      "7\n",
      "Model 1 Predicted 9 : 0.4967543\n",
      "Model 2 Predicted 0 : 0.9999151\n",
      "8\n",
      "Model 1 Predicted 2 : 0.4541142\n",
      "Model 2 Predicted 0 : 0.9919859\n",
      "9\n",
      "Model 1 Predicted 9 : 0.3498183\n",
      "Model 2 Predicted 0 : 0.9972800\n",
      "10\n",
      "Model 1 Predicted 7 : 0.3253551\n",
      "Model 2 Predicted 0 : 0.6215572\n",
      "11\n",
      "Model 1 Predicted 2 : 0.4695667\n",
      "Model 2 Predicted 0 : 0.9903587\n",
      "12\n",
      "Model 1 Predicted 7 : 0.4565713\n",
      "Model 2 Predicted 0 : 0.9129666\n",
      "13\n",
      "Model 1 Predicted 4 : 0.2507488\n",
      "Model 2 Predicted 0 : 0.9995360\n",
      "14\n",
      "Model 1 Predicted 1 : 0.2335429\n",
      "Model 2 Predicted 0 : 0.9064361\n",
      "15\n",
      "Model 1 Predicted 4 : 0.3336155\n",
      "Model 2 Predicted 0 : 0.9593459\n",
      "16\n",
      "Model 1 Predicted 3 : 0.4243042\n",
      "Model 2 Predicted 0 : 0.9043304\n",
      "17\n",
      "Model 1 Predicted 1 : 0.2306401\n",
      "Model 2 Predicted 2 : 0.9416320\n",
      "18\n",
      "Model 1 Predicted 4 : 0.4790732\n",
      "Model 2 Predicted 0 : 0.9999885\n",
      "19\n",
      "Model 1 Predicted 6 : 0.4723823\n",
      "Model 2 Predicted 0 : 0.9999144\n",
      "20\n",
      "Model 1 Predicted 2 : 0.4401658\n",
      "Model 2 Predicted 0 : 0.9998134\n",
      "21\n",
      "Model 1 Predicted 1 : 0.2530557\n",
      "Model 2 Predicted 2 : 0.7744541\n",
      "22\n",
      "Model 1 Predicted 4 : 0.3363891\n",
      "Model 2 Predicted 0 : 0.9557547\n",
      "23\n",
      "Model 1 Predicted 8 : 0.2551281\n",
      "Model 2 Predicted 0 : 0.9993529\n",
      "24\n",
      "Model 1 Predicted 7 : 0.2388624\n",
      "Model 2 Predicted 0 : 0.9966459\n"
     ]
    }
   ],
   "source": [
    "for i in range(0, num_img):\n",
    "    print(i)\n",
    "    print('Model 1', get_label_confidence(adv[i][np.newaxis, ...], model1.model))\n",
    "    print('Model 2', get_label_confidence(adv[i][np.newaxis, ...], model2.model))"
   ]
  },
  {
   "cell_type": "code",
   "execution_count": 26,
   "metadata": {},
   "outputs": [
    {
     "name": "stdout",
     "output_type": "stream",
     "text": [
      "Mean 2.055708312988281\n",
      "Standard Deviation 0.8220224\n"
     ]
    }
   ],
   "source": [
    "perturb = adv - inputs\n",
    "perturb_mean =  np.sum(perturb) / num_img \n",
    "perturb_std = np.std(np.array([sum(x) for x in perturb]))\n",
    "print('Mean', perturb_mean)\n",
    "print('Standard Deviation', perturb_std)"
   ]
  },
  {
   "cell_type": "code",
   "execution_count": 27,
   "metadata": {},
   "outputs": [
    {
     "name": "stdout",
     "output_type": "stream",
     "text": [
      "0\n",
      "Model 3 Predicted 0 : 0.9791830\n",
      "1\n",
      "Model 3 Predicted 0 : 0.8057699\n",
      "2\n",
      "Model 3 Predicted 0 : 0.7801155\n",
      "3\n",
      "Model 3 Predicted 0 : 0.9840521\n",
      "4\n",
      "Model 3 Predicted 0 : 0.7482321\n",
      "5\n",
      "Model 3 Predicted 0 : 0.9983676\n",
      "6\n",
      "Model 3 Predicted 0 : 0.9816337\n",
      "7\n",
      "Model 3 Predicted 0 : 0.9998204\n",
      "8\n",
      "Model 3 Predicted 0 : 0.9693841\n",
      "9\n",
      "Model 3 Predicted 0 : 0.9951007\n",
      "10\n",
      "Model 3 Predicted 0 : 0.8930105\n",
      "11\n",
      "Model 3 Predicted 0 : 0.9119163\n",
      "12\n",
      "Model 3 Predicted 9 : 0.4430845\n",
      "13\n",
      "Model 3 Predicted 0 : 0.9934924\n",
      "14\n",
      "Model 3 Predicted 2 : 0.9070480\n",
      "15\n",
      "Model 3 Predicted 0 : 0.6763878\n",
      "16\n",
      "Model 3 Predicted 2 : 0.8630614\n",
      "17\n",
      "Model 3 Predicted 2 : 0.8220745\n",
      "18\n",
      "Model 3 Predicted 0 : 0.9999541\n",
      "19\n",
      "Model 3 Predicted 0 : 0.9998093\n",
      "20\n",
      "Model 3 Predicted 0 : 0.9599358\n",
      "21\n",
      "Model 3 Predicted 2 : 0.6168079\n",
      "22\n",
      "Model 3 Predicted 0 : 0.9947298\n",
      "23\n",
      "Model 3 Predicted 0 : 0.9512933\n",
      "24\n",
      "Model 3 Predicted 0 : 0.9414096\n"
     ]
    }
   ],
   "source": [
    "# Transferability test\n",
    "for i in range(0, num_img):\n",
    "    print(i)\n",
    "    print('Model 3', get_label_confidence(adv[i][np.newaxis, ...], model3.model))"
   ]
  },
  {
   "cell_type": "code",
   "execution_count": null,
   "metadata": {},
   "outputs": [],
   "source": []
  }
 ],
 "metadata": {
  "kernelspec": {
   "display_name": "Python 3",
   "language": "python",
   "name": "python3"
  },
  "language_info": {
   "codemirror_mode": {
    "name": "ipython",
    "version": 3
   },
   "file_extension": ".py",
   "mimetype": "text/x-python",
   "name": "python",
   "nbconvert_exporter": "python",
   "pygments_lexer": "ipython3",
   "version": "3.6.8"
  }
 },
 "nbformat": 4,
 "nbformat_minor": 4
}
