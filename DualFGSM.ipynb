{
 "cells": [
  {
   "cell_type": "code",
   "execution_count": 1,
   "metadata": {},
   "outputs": [],
   "source": [
    "from __future__ import absolute_import, division, print_function, unicode_literals\n",
    "\n",
    "import tensorflow as tf\n",
    "import tensorflow.keras.backend as K\n",
    "import numpy as np\n",
    "import matplotlib as mpl\n",
    "import matplotlib.pyplot as plt\n",
    "\n",
    "mpl.rcParams['figure.figsize'] = (8, 8)\n",
    "mpl.rcParams['axes.grid'] = False"
   ]
  },
  {
   "cell_type": "code",
   "execution_count": 2,
   "metadata": {},
   "outputs": [],
   "source": [
    "mnist = tf.keras.datasets.mnist\n",
    "\n",
    "(x_train, y_train), (x_test, y_test) = mnist.load_data()\n",
    "x_train, x_test = x_train / 255.0, x_test / 255.0"
   ]
  },
  {
   "cell_type": "code",
   "execution_count": 3,
   "metadata": {},
   "outputs": [
    {
     "name": "stdout",
     "output_type": "stream",
     "text": [
      "WARNING:tensorflow:From /home/zainkhan/.local/share/virtualenvs/xu-jXQ59E2g/lib/python3.6/site-packages/tensorflow/python/ops/init_ops.py:1251: calling VarianceScaling.__init__ (from tensorflow.python.ops.init_ops) with dtype is deprecated and will be removed in a future version.\n",
      "Instructions for updating:\n",
      "Call initializer instance with the dtype argument instead of passing it to the constructor\n"
     ]
    }
   ],
   "source": [
    "model = tf.keras.models.Sequential([\n",
    "  tf.keras.layers.Flatten(input_shape=(28, 28)),\n",
    "  tf.keras.layers.Dense(128, activation='relu'),\n",
    "  tf.keras.layers.Dropout(0.2),\n",
    "  tf.keras.layers.Dense(10, activation='softmax')\n",
    "])\n",
    "\n",
    "model.compile(optimizer='adam',\n",
    "              loss='sparse_categorical_crossentropy',\n",
    "              metrics=['accuracy'])"
   ]
  },
  {
   "cell_type": "code",
   "execution_count": 4,
   "metadata": {},
   "outputs": [
    {
     "name": "stdout",
     "output_type": "stream",
     "text": [
      "Epoch 1/5\n",
      "60000/60000 [==============================] - 3s 44us/sample - loss: 0.2902 - acc: 0.9158\n",
      "Epoch 2/5\n",
      "60000/60000 [==============================] - 3s 42us/sample - loss: 0.1381 - acc: 0.9584\n",
      "Epoch 3/5\n",
      "60000/60000 [==============================] - 3s 45us/sample - loss: 0.1036 - acc: 0.9682\n",
      "Epoch 4/5\n",
      "60000/60000 [==============================] - 3s 42us/sample - loss: 0.0853 - acc: 0.9731\n",
      "Epoch 5/5\n",
      "60000/60000 [==============================] - 2s 41us/sample - loss: 0.0737 - acc: 0.9773\n",
      "10000/10000 - 0s - loss: 0.0716 - acc: 0.9787\n"
     ]
    },
    {
     "data": {
      "text/plain": [
       "[0.07156716493633576, 0.9787]"
      ]
     },
     "execution_count": 4,
     "metadata": {},
     "output_type": "execute_result"
    }
   ],
   "source": [
    "model.fit(x_train, y_train, epochs=5)\n",
    "model.evaluate(x_test,  y_test, verbose=2)"
   ]
  },
  {
   "cell_type": "code",
   "execution_count": 5,
   "metadata": {},
   "outputs": [
    {
     "data": {
      "text/plain": [
       "'Predicted 5 : 0.9984152'"
      ]
     },
     "execution_count": 5,
     "metadata": {},
     "output_type": "execute_result"
    }
   ],
   "source": [
    "test_img = x_train[0]\n",
    "\n",
    "def get_label_confidence(image, model):\n",
    "    pr = model.predict(image.reshape(1, 28, 28))\n",
    "    image_class = model.predict_classes(image.reshape(1, 28, 28))\n",
    "    return 'Predicted {} : {:.7f}'.format(image_class[0], max(max(pr)))\n",
    "   \n",
    "get_label_confidence(test_img, model)"
   ]
  },
  {
   "cell_type": "code",
   "execution_count": 6,
   "metadata": {},
   "outputs": [
    {
     "name": "stdout",
     "output_type": "stream",
     "text": [
      "Tensor(\"one_hot:0\", shape=(10,), dtype=float32)\n"
     ]
    }
   ],
   "source": [
    "image_probs = model.predict(test_img.reshape(1, 28, 28))\n",
    "label = tf.one_hot(5, image_probs.shape[-1])\n",
    "print(label)"
   ]
  },
  {
   "cell_type": "code",
   "execution_count": 7,
   "metadata": {},
   "outputs": [],
   "source": [
    "model2 = tf.keras.models.Sequential([\n",
    "  tf.keras.layers.Flatten(input_shape=(28, 28)),\n",
    "  tf.keras.layers.Dense(128, activation='relu'),\n",
    "  tf.keras.layers.Dropout(0.2),\n",
    "  tf.keras.layers.Dense(10, activation='softmax')\n",
    "])\n",
    "\n",
    "model2.compile(optimizer='adam',\n",
    "              loss='sparse_categorical_crossentropy',\n",
    "              metrics=['accuracy'])"
   ]
  },
  {
   "cell_type": "code",
   "execution_count": 8,
   "metadata": {},
   "outputs": [
    {
     "name": "stdout",
     "output_type": "stream",
     "text": [
      "Epoch 1/5\n",
      "60000/60000 [==============================] - 3s 43us/sample - loss: 0.2953 - acc: 0.9147\n",
      "Epoch 2/5\n",
      "60000/60000 [==============================] - 3s 44us/sample - loss: 0.1423 - acc: 0.9580\n",
      "Epoch 3/5\n",
      "60000/60000 [==============================] - 3s 46us/sample - loss: 0.1078 - acc: 0.9678\n",
      "Epoch 4/5\n",
      "60000/60000 [==============================] - 3s 44us/sample - loss: 0.0882 - acc: 0.9724\n",
      "Epoch 5/5\n",
      "60000/60000 [==============================] - 3s 45us/sample - loss: 0.0760 - acc: 0.9763\n",
      "10000/10000 - 0s - loss: 0.0722 - acc: 0.9768\n"
     ]
    },
    {
     "data": {
      "text/plain": [
       "[0.07222191714285874, 0.9768]"
      ]
     },
     "execution_count": 8,
     "metadata": {},
     "output_type": "execute_result"
    }
   ],
   "source": [
    "model2.fit(x_train, y_train, epochs=5)\n",
    "model2.evaluate(x_test,  y_test, verbose=2)"
   ]
  },
  {
   "cell_type": "code",
   "execution_count": 16,
   "metadata": {},
   "outputs": [],
   "source": [
    "sess = K.get_session()\n",
    "x = x_train[2]\n",
    "x = np.reshape(x, (1, 28, 28))\n",
    "x_orig = x\n",
    "x_adv = x\n",
    "x_noise = np.zeros_like(x)\n",
    "\n",
    "def cosine_similarity(x, y):\n",
    "    return np.dot(x, y) / (np.sqrt(np.dot(x, x)) * np.sqrt(np.dot(y, y)))"
   ]
  },
  {
   "cell_type": "code",
   "execution_count": 17,
   "metadata": {},
   "outputs": [
    {
     "data": {
      "text/plain": [
       "(1, 28, 28)"
      ]
     },
     "execution_count": 17,
     "metadata": {},
     "output_type": "execute_result"
    }
   ],
   "source": [
    "x.shape"
   ]
  },
  {
   "cell_type": "code",
   "execution_count": 10,
   "metadata": {},
   "outputs": [
    {
     "name": "stdout",
     "output_type": "stream",
     "text": [
      "Initial Results\n",
      "Model 1 - Predicted 4 : 0.9990134\n",
      "Model 2 - Predicted 4 : 0.9992166\n"
     ]
    }
   ],
   "source": [
    "model1_initial = 'Model 1 - ' + get_label_confidence(x_adv, model)\n",
    "model2_initial = 'Model 2 - ' + get_label_confidence(x_adv, model2)\n",
    "print('Initial Results')\n",
    "print(model1_initial)\n",
    "print(model2_initial)"
   ]
  },
  {
   "cell_type": "code",
   "execution_count": 11,
   "metadata": {},
   "outputs": [
    {
     "name": "stdout",
     "output_type": "stream",
     "text": [
      "Iteration: 0 \t Cosine Similarity: -0.6443682 \t Angle: 130.11832753803114\n",
      "Iteration: 1 \t Cosine Similarity: -0.6877838 \t Angle: 133.45492958909574\n",
      "Iteration: 2 \t Cosine Similarity: -0.700841 \t Angle: 134.49451170152835\n",
      "Iteration: 3 \t Cosine Similarity: -0.6436866 \t Angle: 130.06726504379614\n",
      "Iteration: 4 \t Cosine Similarity: -0.7006204 \t Angle: 134.47680785119968\n",
      "Iteration: 5 \t Cosine Similarity: -0.7045443 \t Angle: 134.7927450814478\n",
      "Iteration: 6 \t Cosine Similarity: -0.7151474 \t Angle: 135.6552886905937\n",
      "Iteration: 7 \t Cosine Similarity: -0.707251 \t Angle: 135.01169362548174\n",
      "Iteration: 8 \t Cosine Similarity: -0.7282644 \t Angle: 136.7410838629506\n",
      "Iteration: 9 \t Cosine Similarity: -0.7487886 \t Angle: 138.4855551581069\n",
      "Iteration: 10 \t Cosine Similarity: -0.769786 \t Angle: 140.3346786117261\n",
      "Iteration: 11 \t Cosine Similarity: -0.7588024 \t Angle: 139.35872654160133\n",
      "Iteration: 12 \t Cosine Similarity: -0.7351138 \t Angle: 137.31684148922602\n",
      "Iteration: 13 \t Cosine Similarity: -0.7365572 \t Angle: 137.43896527158583\n"
     ]
    }
   ],
   "source": [
    "# Set variables\n",
    "N = 2\n",
    "epochs = 21\n",
    "epsilon = 0.01\n",
    "true_class = 4\n",
    "target_class = 2\n",
    "prev_probs = []\n",
    "prev_probs2 = []\n",
    "prev_adv = []\n",
    "\n",
    "for i in range(epochs): \n",
    "    # One hot encode the target class\n",
    "    target = K.one_hot(target_class, 10)\n",
    "    true = K.one_hot(true_class, 10)\n",
    "    \n",
    "    # Get the loss and gradient of the loss wrt the inputs\n",
    "    loss = -1 * K.categorical_crossentropy(target, model.output) \n",
    "    loss2 = -1 * K.categorical_crossentropy(true, model2.output)\n",
    "    grads = K.gradients(loss, model.input)\n",
    "    grads2 = K.gradients(loss2, model2.input)\n",
    "    \n",
    "    grad1 = sess.run(grads, feed_dict={model.input:x})\n",
    "    grad2 = sess.run(grads2, feed_dict={model2.input:x})\n",
    "    grad11 = grad1[0][0].flatten()\n",
    "    grad21 = grad2[0][0].flatten()\n",
    "    cos = cosine_similarity(grad11, grad21)\n",
    "    sim = np.arccos(cos) * 180 / np.pi\n",
    "    \n",
    "    # Get the sign of the gradient\n",
    "    delta = K.sign(grads[0]) + K.sign(grads2[0])\n",
    "    x_noise = x_noise + delta\n",
    "\n",
    "    # Perturb the image\n",
    "    x_adv = x_adv + epsilon * delta\n",
    "\n",
    "    # Get the new image and predictions\n",
    "    x_adv = sess.run(x_adv, feed_dict={model.input:x, model2.input:x})\n",
    "    prev_adv.append(x_adv)\n",
    "    preds = model.predict(x_adv)\n",
    "    preds2 = model2.predict(x_adv)\n",
    "        \n",
    "    if(target_class == np.argmax(preds[0]) and true_class == np.argmax(preds2[0])):\n",
    "        break\n",
    "\n",
    "    # Store the probability of the target class\n",
    "    prev_probs.append(preds[0][target_class])\n",
    "    prev_probs2.append(preds2[0][target_class])\n",
    "\n",
    "    if i%1 == 0:\n",
    "        '''\n",
    "        print('Epoch:', i, '\\t', 'Model1', '\\t', 'Targeted', target_class, ':', preds[0][target_class], \n",
    "              '\\t', get_label_confidence(x_adv, model))\n",
    "        print('Epoch:', i, '\\t', 'Model2', '\\t', 'Targeted', target_class, ':', preds2[0][target_class],\n",
    "              '\\t', get_label_confidence(x_adv, model2))\n",
    "        print('L2 Norm:', np.linalg.norm(x_adv - x))\n",
    "        '''\n",
    "        print('Iteration:', i, '\\t', 'Cosine Similarity:', round(cos, 7), '\\t', 'Angle:', sim)\n",
    "    \n",
    "    x = x_adv"
   ]
  },
  {
   "cell_type": "code",
   "execution_count": 12,
   "metadata": {},
   "outputs": [
    {
     "name": "stdout",
     "output_type": "stream",
     "text": [
      "Final Results\n",
      "Iteration: 14\n",
      "Model 1 - Predicted 2 : 0.5100507\n",
      "Model 2 - Predicted 4 : 1.0000000\n",
      "L2 Norm: 3.35946370631469\n"
     ]
    }
   ],
   "source": [
    "model1_final = 'Model 1 - ' + get_label_confidence(x_adv, model)\n",
    "model2_final = 'Model 2 - ' + get_label_confidence(x_adv, model2)\n",
    "print('Final Results')\n",
    "print('Iteration:', i)\n",
    "print(model1_final)\n",
    "print(model2_final)\n",
    "print('L2 Norm:', np.linalg.norm(x_adv - x_orig))"
   ]
  },
  {
   "cell_type": "code",
   "execution_count": 13,
   "metadata": {},
   "outputs": [
    {
     "ename": "NameError",
     "evalue": "name 'x_original' is not defined",
     "output_type": "error",
     "traceback": [
      "\u001b[0;31m---------------------------------------------------------------------------\u001b[0m",
      "\u001b[0;31mNameError\u001b[0m                                 Traceback (most recent call last)",
      "\u001b[0;32m<ipython-input-13-7d581496e4cc>\u001b[0m in \u001b[0;36m<module>\u001b[0;34m\u001b[0m\n\u001b[1;32m      1\u001b[0m \u001b[0mplt\u001b[0m\u001b[0;34m.\u001b[0m\u001b[0mset_cmap\u001b[0m\u001b[0;34m(\u001b[0m\u001b[0;34m'Greys_r'\u001b[0m\u001b[0;34m)\u001b[0m\u001b[0;34m\u001b[0m\u001b[0;34m\u001b[0m\u001b[0m\n\u001b[1;32m      2\u001b[0m \u001b[0mplt\u001b[0m\u001b[0;34m.\u001b[0m\u001b[0mfigure\u001b[0m\u001b[0;34m(\u001b[0m\u001b[0;34m)\u001b[0m\u001b[0;34m\u001b[0m\u001b[0;34m\u001b[0m\u001b[0m\n\u001b[0;32m----> 3\u001b[0;31m \u001b[0mplt\u001b[0m\u001b[0;34m.\u001b[0m\u001b[0mimshow\u001b[0m\u001b[0;34m(\u001b[0m\u001b[0mx_original\u001b[0m\u001b[0;34m)\u001b[0m\u001b[0;34m\u001b[0m\u001b[0;34m\u001b[0m\u001b[0m\n\u001b[0m\u001b[1;32m      4\u001b[0m \u001b[0mplt\u001b[0m\u001b[0;34m.\u001b[0m\u001b[0mshow\u001b[0m\u001b[0;34m(\u001b[0m\u001b[0;34m)\u001b[0m\u001b[0;34m\u001b[0m\u001b[0;34m\u001b[0m\u001b[0m\n",
      "\u001b[0;31mNameError\u001b[0m: name 'x_original' is not defined"
     ]
    },
    {
     "data": {
      "text/plain": [
       "<Figure size 432x288 with 0 Axes>"
      ]
     },
     "metadata": {},
     "output_type": "display_data"
    },
    {
     "data": {
      "text/plain": [
       "<Figure size 432x288 with 0 Axes>"
      ]
     },
     "metadata": {},
     "output_type": "display_data"
    }
   ],
   "source": [
    "plt.set_cmap('Greys_r')\n",
    "plt.figure()\n",
    "plt.imshow(x_original)\n",
    "plt.show()"
   ]
  },
  {
   "cell_type": "code",
   "execution_count": null,
   "metadata": {},
   "outputs": [],
   "source": [
    "plt.imshow(x_adv[0])\n",
    "plt.show()"
   ]
  },
  {
   "cell_type": "code",
   "execution_count": null,
   "metadata": {},
   "outputs": [],
   "source": [
    "plt.imshow(x_adv[0] - x[0])\n",
    "plt.show()"
   ]
  },
  {
   "cell_type": "code",
   "execution_count": 15,
   "metadata": {},
   "outputs": [
    {
     "data": {
      "text/plain": [
       "(28, 28)"
      ]
     },
     "execution_count": 15,
     "metadata": {},
     "output_type": "execute_result"
    }
   ],
   "source": [
    "x[0].shape"
   ]
  },
  {
   "cell_type": "code",
   "execution_count": null,
   "metadata": {},
   "outputs": [],
   "source": []
  }
 ],
 "metadata": {
  "kernelspec": {
   "display_name": "Python 3",
   "language": "python",
   "name": "python3"
  },
  "language_info": {
   "codemirror_mode": {
    "name": "ipython",
    "version": 3
   },
   "file_extension": ".py",
   "mimetype": "text/x-python",
   "name": "python",
   "nbconvert_exporter": "python",
   "pygments_lexer": "ipython3",
   "version": "3.6.8"
  }
 },
 "nbformat": 4,
 "nbformat_minor": 4
}
