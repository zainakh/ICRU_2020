{
 "cells": [
  {
   "cell_type": "markdown",
   "metadata": {},
   "source": [
    "# Process Results"
   ]
  },
  {
   "cell_type": "code",
   "execution_count": 67,
   "metadata": {},
   "outputs": [],
   "source": [
    "import numpy as np\n",
    "import matplotlib.pyplot as plt"
   ]
  },
  {
   "cell_type": "markdown",
   "metadata": {},
   "source": [
    "## Import Valid Data"
   ]
  },
  {
   "cell_type": "code",
   "execution_count": 68,
   "metadata": {},
   "outputs": [],
   "source": [
    "'''\n",
    "# One attacked model \n",
    "adv1 = np.load('four_subset_data_clean/adv_three_1.csv.npy')\n",
    "adv2 = np.load('four_subset_data_clean/adv_three_2.csv.npy')\n",
    "adv3 = np.load('four_subset_data_clean/adv_three_3.csv.npy')\n",
    "\n",
    "# Two attacked models \n",
    "adv12 = np.load('four_subset_data_clean/adv_three_12.csv.npy')\n",
    "adv13 = np.load('four_subset_data_clean/adv_three_13.csv.npy')\n",
    "adv23 = np.load('four_subset_data_clean/adv_three_23.csv.npy')\n",
    "\n",
    "# Three attacked models\n",
    "adv123 = np.load('four_subset_data_clean/adv_three_123.csv.npy')\n",
    "'''\n",
    "# One attacked model \n",
    "adv1 = np.load('four_subset_data_clean/adv_three_1.csv.npy')\n",
    "adv2 = np.load('four_subset_data_clean/adv_three_2.csv.npy')\n",
    "adv3 = np.load('four_subset_data_clean/adv_three_3.csv.npy')\n",
    "\n",
    "# Two attacked models \n",
    "adv12 = np.load('four_subset_data_clean/adv_three_12.csv.npy')\n",
    "adv13 = np.load('four_subset_data_clean/adv_three_13.csv.npy')\n",
    "adv23 = np.load('four_subset_data_clean/adv_three_23.csv.npy')\n",
    "\n",
    "# Three attacked models\n",
    "adv123 = np.load('four_subset_data_clean/adv_three_123.csv.npy')"
   ]
  },
  {
   "cell_type": "code",
   "execution_count": 69,
   "metadata": {},
   "outputs": [],
   "source": [
    "# One attacked model \n",
    "inp1 = np.load('four_subset_data_clean/inputs_three__1.csv.npy')\n",
    "inp2 = np.load('four_subset_data_clean/inputs_three__2.csv.npy')\n",
    "inp3 = np.load('four_subset_data_clean/inputs_three__3.csv.npy')\n",
    "\n",
    "# Two attacked models \n",
    "inp12 = np.load('four_subset_data_clean/inputs_three__12.csv.npy')\n",
    "inp13 = np.load('four_subset_data_clean/inputs_three__13.csv.npy')\n",
    "inp23 = np.load('four_subset_data_clean/inputs_three__23.csv.npy')\n",
    "\n",
    "# Three attacked models\n",
    "inp123 = np.load('four_subset_data_clean/inputs_three__123.csv.npy')"
   ]
  },
  {
   "cell_type": "code",
   "execution_count": 71,
   "metadata": {},
   "outputs": [],
   "source": [
    "one_attack = [adv1, adv2, adv3]\n",
    "two_attack = [adv12, adv13, adv23]\n",
    "three_attack = [adv123]\n",
    "\n",
    "one_attack_inp = [inp1, inp2, inp3]\n",
    "two_attack_inp = [inp12, inp13, inp23]\n",
    "three_attack_inp = [inp123]"
   ]
  },
  {
   "cell_type": "markdown",
   "metadata": {},
   "source": [
    "## Find & Plot Attack Size Differences for Varied M & N \n",
    "\n",
    "### M = Number attacked\n",
    "### N = Number defended"
   ]
  },
  {
   "cell_type": "code",
   "execution_count": 13,
   "metadata": {},
   "outputs": [
    {
     "name": "stderr",
     "output_type": "stream",
     "text": [
      "Using TensorFlow backend.\n"
     ]
    }
   ],
   "source": [
    "import tensorflow as tf\n",
    "import tensorflow.keras.backend as K\n",
    "from keras.models import load_model, Sequential\n",
    "from keras.layers import Dense, Activation, Conv2D, MaxPooling2D, Flatten"
   ]
  },
  {
   "cell_type": "code",
   "execution_count": 14,
   "metadata": {},
   "outputs": [],
   "source": [
    "sess = tf.Session(config=tf.ConfigProto())\n",
    "K.set_session(sess)\n",
    "\n",
    "# CNN Model for MNIST \n",
    "class MNIST_Model:\n",
    "    def __init__(self, session=None):\n",
    "        self.num_channels = 1\n",
    "        self.image_size = 28\n",
    "        self.num_labels = 10\n",
    "\n",
    "        model = Sequential()\n",
    "\n",
    "        model.add(Conv2D(32, (3, 3),\n",
    "                         input_shape=(28, 28, 1)))\n",
    "        model.add(Activation('relu'))\n",
    "        model.add(Conv2D(32, (3, 3)))\n",
    "        model.add(Activation('relu'))\n",
    "        model.add(MaxPooling2D(pool_size=(2, 2)))\n",
    "\n",
    "        model.add(Conv2D(64, (3, 3)))\n",
    "        model.add(Activation('relu'))\n",
    "        model.add(Conv2D(64, (3, 3)))\n",
    "        model.add(Activation('relu'))\n",
    "        model.add(MaxPooling2D(pool_size=(2, 2)))\n",
    "\n",
    "        model.add(Flatten())\n",
    "        model.add(Dense(200))\n",
    "        model.add(Activation('relu'))\n",
    "        model.add(Dense(200))\n",
    "        model.add(Activation('relu'))\n",
    "        model.add(Dense(10))\n",
    "\n",
    "        self.model = model\n",
    "\n",
    "    def predict(self, data):\n",
    "        return self.model(data)\n",
    "    \n",
    "def fn(correct, predicted):\n",
    "    return tf.nn.softmax_cross_entropy_with_logits(labels=correct,\n",
    "                                                   logits=predicted)"
   ]
  },
  {
   "cell_type": "code",
   "execution_count": 15,
   "metadata": {},
   "outputs": [
    {
     "name": "stdout",
     "output_type": "stream",
     "text": [
      "WARNING:tensorflow:From /home/zainkhan/.local/share/virtualenvs/xu-jXQ59E2g/lib/python3.6/site-packages/keras/backend/tensorflow_backend.py:4070: The name tf.nn.max_pool is deprecated. Please use tf.nn.max_pool2d instead.\n",
      "\n",
      "WARNING:tensorflow:From <ipython-input-14-612c9761a542>:40: softmax_cross_entropy_with_logits (from tensorflow.python.ops.nn_ops) is deprecated and will be removed in a future version.\n",
      "Instructions for updating:\n",
      "\n",
      "Future major versions of TensorFlow will allow gradients to flow\n",
      "into the labels input on backprop by default.\n",
      "\n",
      "See `tf.nn.softmax_cross_entropy_with_logits_v2`.\n",
      "\n",
      "WARNING:tensorflow:From /home/zainkhan/.local/share/virtualenvs/xu-jXQ59E2g/lib/python3.6/site-packages/keras/backend/tensorflow_backend.py:422: The name tf.global_variables is deprecated. Please use tf.compat.v1.global_variables instead.\n",
      "\n"
     ]
    }
   ],
   "source": [
    "model1 = MNIST_Model()\n",
    "model1.model = load_model('models/trained_model1', custom_objects={'fn':fn})\n",
    "\n",
    "model2 = MNIST_Model()\n",
    "model2.model = load_model('models/trained_model2', custom_objects={'fn':fn})\n",
    "\n",
    "model3 = MNIST_Model()\n",
    "model3.model = load_model('models/trained_model3', custom_objects={'fn':fn})\n",
    "\n",
    "model4 = MNIST_Model()\n",
    "model4.model = load_model('models/trained_model4', custom_objects={'fn':fn})"
   ]
  },
  {
   "cell_type": "code",
   "execution_count": 75,
   "metadata": {},
   "outputs": [],
   "source": [
    "def size_of_attack(adv, inputs, num_img=10):\n",
    "    perturb = adv - inputs\n",
    "    perturb_mean =  np.sum(perturb) / num_img \n",
    "    perturb_std = np.std(np.array([sum(x) for x in perturb]))\n",
    "    return (perturb_mean, perturb_std)"
   ]
  },
  {
   "cell_type": "code",
   "execution_count": 76,
   "metadata": {},
   "outputs": [],
   "source": [
    "num_one_attack = 4\n",
    "num_two_attack = 6\n",
    "num_three_attack = 4\n",
    "mean_attack = []\n",
    "std_attack = []\n",
    "\n",
    "# M = 1\n",
    "mean = 0\n",
    "var = 0\n",
    "for i in range(len(one_attack)):\n",
    "    res = size_of_attack(one_attack[i], one_attack_inp[i])\n",
    "    mean += res[0]\n",
    "    var += res[1] ** 2\n",
    "mean_attack.append(mean / num_one_attack)\n",
    "std_attack.append(np.sqrt(var))\n",
    "\n",
    "# M = 2\n",
    "mean = 0\n",
    "var = 0\n",
    "for i in range(len(two_attack)):\n",
    "    res = size_of_attack(two_attack[i], two_attack_inp[i])\n",
    "    mean += res[0]\n",
    "    var += res[1] ** 2\n",
    "mean_attack.append(mean / num_two_attack)\n",
    "std_attack.append(np.sqrt(var))\n",
    "\n",
    "# M = 3\n",
    "mean = 0\n",
    "var = 0\n",
    "for i in range(len(three_attack)):\n",
    "    res = size_of_attack(three_attack[i], three_attack_inp[i])\n",
    "    mean += res[0]\n",
    "    var += res[1] ** 2\n",
    "mean_attack.append(mean/ num_three_attack)\n",
    "std_attack.append(np.sqrt(var))"
   ]
  },
  {
   "cell_type": "code",
   "execution_count": 77,
   "metadata": {},
   "outputs": [
    {
     "name": "stdout",
     "output_type": "stream",
     "text": [
      "[6.739913368225097, 3.608103815714518, 1.9042753219604491]\n",
      "[1.4055796240953198, 1.5169285978283171, 0.824033260345459]\n"
     ]
    }
   ],
   "source": [
    "print(mean_attack)\n",
    "print(std_attack)"
   ]
  },
  {
   "cell_type": "code",
   "execution_count": 78,
   "metadata": {},
   "outputs": [],
   "source": [
    "def get_label_probabilities(image, model):\n",
    "    pr = model.predict(image)\n",
    "    pr = np.array([np.exp(x) for x in pr])\n",
    "    return pr / np.sum(pr)\n",
    "\n",
    "def avg_probability(adv, model):\n",
    "    pr_true_avg = 0\n",
    "    for i in range(0, len(adv)):\n",
    "        pr_true_avg += get_label_probabilities(adv[i][np.newaxis, ...], model)[0][0]\n",
    "    return pr_true_avg / len(adv)"
   ]
  },
  {
   "cell_type": "code",
   "execution_count": 79,
   "metadata": {},
   "outputs": [],
   "source": [
    "mean_transferability = []\n",
    "\n",
    "mean = 0\n",
    "for adv in one_attack:\n",
    "    mean += avg_probability(adv, model4.model)\n",
    "mean_transferability.append(mean / len(one_attack))\n",
    "\n",
    "mean = 0\n",
    "for adv in two_attack:\n",
    "    mean += avg_probability(adv, model4.model)\n",
    "mean_transferability.append(mean / len(two_attack))\n",
    "\n",
    "mean = 0\n",
    "for adv in three_attack:\n",
    "    mean += avg_probability(adv, model4.model)\n",
    "mean_transferability.append(mean / len(three_attack))"
   ]
  },
  {
   "cell_type": "code",
   "execution_count": 80,
   "metadata": {},
   "outputs": [
    {
     "data": {
      "text/plain": [
       "[0.8361366341263056, 0.6002542709729944, 0.31698752942378633]"
      ]
     },
     "execution_count": 80,
     "metadata": {},
     "output_type": "execute_result"
    }
   ],
   "source": [
    "mean_transferability"
   ]
  },
  {
   "cell_type": "code",
   "execution_count": 81,
   "metadata": {},
   "outputs": [],
   "source": [
    "difference_transferability = []\n",
    "\n",
    "mean = 0\n",
    "for i in range(len(one_attack)):\n",
    "    mean += avg_probability(one_attack_inp[i], model4.model) - avg_probability(one_attack[i], model4.model)\n",
    "difference_transferability.append(mean / len(one_attack))\n",
    "\n",
    "mean = 0\n",
    "for i in range(len(two_attack)):\n",
    "    mean += avg_probability(two_attack_inp[i], model4.model) - avg_probability(two_attack[i], model4.model)\n",
    "difference_transferability.append(mean / len(two_attack))\n",
    "\n",
    "mean = 0\n",
    "for i in range(len(three_attack)):\n",
    "    mean += avg_probability(three_attack_inp[i], model4.model) - avg_probability(three_attack[i], model4.model)\n",
    "difference_transferability.append(mean / len(three_attack))"
   ]
  },
  {
   "cell_type": "code",
   "execution_count": 82,
   "metadata": {},
   "outputs": [
    {
     "data": {
      "text/plain": [
       "[0.16385200999677185, 0.39973437315008303, 0.6830011146992911]"
      ]
     },
     "execution_count": 82,
     "metadata": {},
     "output_type": "execute_result"
    }
   ],
   "source": [
    "difference_transferability"
   ]
  },
  {
   "cell_type": "code",
   "execution_count": 83,
   "metadata": {},
   "outputs": [
    {
     "data": {
      "text/plain": [
       "<Figure size 432x288 with 0 Axes>"
      ]
     },
     "execution_count": 83,
     "metadata": {},
     "output_type": "execute_result"
    },
    {
     "data": {
      "text/plain": [
       "<Figure size 432x288 with 0 Axes>"
      ]
     },
     "metadata": {},
     "output_type": "display_data"
    },
    {
     "data": {
      "text/plain": [
       "<Figure size 432x288 with 0 Axes>"
      ]
     },
     "metadata": {},
     "output_type": "display_data"
    }
   ],
   "source": [
    "plt.set_cmap('Greys_r')\n",
    "plt.style.use('seaborn-dark-palette')\n",
    "plt.figure()"
   ]
  },
  {
   "cell_type": "markdown",
   "metadata": {},
   "source": [
    "## Plot Magnitude vs M, N"
   ]
  },
  {
   "cell_type": "code",
   "execution_count": 104,
   "metadata": {},
   "outputs": [
    {
     "data": {
      "image/png": "[encoded data removed]",
      "text/plain": [
       "<Figure size 432x288 with 1 Axes>"
      ]
     },
     "metadata": {
      "needs_background": "light"
     },
     "output_type": "display_data"
    }
   ],
   "source": [
    "from matplotlib.ticker import (AutoLocator, AutoMinorLocator)\n",
    "\n",
    "M = [1, 2, 3]\n",
    "N = [2, 1, 0]\n",
    "\n",
    "plt.plot(M, mean_attack, linestyle='-', marker='o')\n",
    "plt.xticks(M, ['1', '2', '3'])\n",
    "plt.yticks([1.0, 3.0, 5.0, 7.0])\n",
    "plt.xlabel('Number of Attacked Models (#)')\n",
    "plt.ylabel('Magnitude of Attack Perturbations')\n",
    "ax = plt.gca()\n",
    "ax.tick_params(axis=u'both', which=u'both',length=0)\n",
    "fig = plt.gcf()\n",
    "plt.show()\n",
    "fig.savefig('magnitude_of_attack_three.png')"
   ]
  },
  {
   "cell_type": "markdown",
   "metadata": {},
   "source": [
    "## Transferability of Attack vs M, N"
   ]
  },
  {
   "cell_type": "code",
   "execution_count": 105,
   "metadata": {},
   "outputs": [
    {
     "data": {
      "image/png": "[encoded data removed]",
      "text/plain": [
       "<Figure size 432x288 with 1 Axes>"
      ]
     },
     "metadata": {
      "needs_background": "light"
     },
     "output_type": "display_data"
    }
   ],
   "source": [
    "M = [1, 2, 3]\n",
    "plt.plot(M, mean_transferability, linestyle='-', marker='o')\n",
    "plt.xticks(M, ['1', '2', '3'])\n",
    "plt.xlabel('Number of Attacked Models (#)')\n",
    "plt.ylabel('True Label Confidence w/ New Model (%)')\n",
    "ax = plt.gca()\n",
    "ax.tick_params(axis=u'both', which=u'both',length=0)\n",
    "fig = plt.gcf()\n",
    "plt.show()\n",
    "\n",
    "fig.savefig('true_label_confidence_three.png')"
   ]
  },
  {
   "cell_type": "code",
   "execution_count": 86,
   "metadata": {},
   "outputs": [],
   "source": [
    "def plot_adversarial(inputs, adv, num):\n",
    "    fig, (ax1, ax2, ax3) = plt.subplots(1, 3)\n",
    "    ax2.axis('off')\n",
    "    ax2.imshow(inputs[0][:,:,0])\n",
    "    ax1.axis('off')\n",
    "    ax1.imshow(adv[0][:,:,0])\n",
    "    ax3.axis('off')\n",
    "    ax3.imshow(adv[0][:,:,0] - inputs[0][:,:,0])\n",
    "    ax1.margins(0,0)\n",
    "    ax2.margins(0,0)\n",
    "    ax3.margins(0,0)\n",
    "    fig.savefig(str(num) + '_attack_example.pdf', bbox_inches = 'tight', pad_inches = 0)"
   ]
  },
  {
   "cell_type": "code",
   "execution_count": 87,
   "metadata": {},
   "outputs": [
    {
     "data": {
      "image/png": "[encoded data removed]",
      "text/plain": [
       "<Figure size 432x288 with 3 Axes>"
      ]
     },
     "metadata": {
      "needs_background": "light"
     },
     "output_type": "display_data"
    }
   ],
   "source": [
    "plot_adversarial(adv1, inp1, 1)"
   ]
  },
  {
   "cell_type": "code",
   "execution_count": 88,
   "metadata": {},
   "outputs": [
    {
     "data": {
      "image/png": "[encoded data removed]",
      "text/plain": [
       "<Figure size 432x288 with 3 Axes>"
      ]
     },
     "metadata": {
      "needs_background": "light"
     },
     "output_type": "display_data"
    }
   ],
   "source": [
    "plot_adversarial(adv23, inp23, 2)"
   ]
  },
  {
   "cell_type": "code",
   "execution_count": 89,
   "metadata": {},
   "outputs": [
    {
     "data": {
      "image/png": "[encoded data removed]",
      "text/plain": [
       "<Figure size 432x288 with 3 Axes>"
      ]
     },
     "metadata": {
      "needs_background": "light"
     },
     "output_type": "display_data"
    }
   ],
   "source": [
    "plot_adversarial(adv123, inp123, 3)"
   ]
  },
  {
   "cell_type": "markdown",
   "metadata": {},
   "source": [
    "# Compute Probabilities of Successful Attack"
   ]
  },
  {
   "cell_type": "code",
   "execution_count": 2,
   "metadata": {},
   "outputs": [],
   "source": [
    "import numpy as np\n",
    "'''\n",
    "# One attacked model \n",
    "adv1 = np.load('four_subset_data/adv_three_1.csv.npy')\n",
    "adv2 = np.load('four_subset_data/adv_three_2.csv.npy')\n",
    "adv3 = np.load('four_subset_data/adv_three_3.csv.npy')\n",
    "\n",
    "# Two attacked models \n",
    "adv12 = np.load('four_subset_data/adv_three_12.csv.npy')\n",
    "adv13 = np.load('four_subset_data/adv_three_13.csv.npy')\n",
    "adv23 = np.load('four_subset_data/adv_three_23.csv.npy')\n",
    "\n",
    "# Three attacked models\n",
    "adv123 = np.load('four_subset_data/adv_three_123.csv.npy')\n",
    "'''\n",
    "# One attacked model \n",
    "adv1 = np.load('three_subset_data/adv_precise_1.csv.npy')\n",
    "adv2 = np.load('three_subset_data/adv_precise_2.csv.npy')\n",
    "adv3 = np.load('three_subset_data/adv_precise_3.csv.npy')\n",
    "\n",
    "# Two attacked models \n",
    "adv12 = np.load('three_subset_data/adv_precise_12.csv.npy')\n",
    "adv13 = np.load('three_subset_data/adv_precise_13.csv.npy')\n",
    "adv23 = np.load('three_subset_data/adv_precise_23.csv.npy')\n",
    "\n",
    "# Three attacked models\n",
    "adv123 = np.load('three_subset_data/adv_precise_123.csv.npy')"
   ]
  },
  {
   "cell_type": "code",
   "execution_count": 3,
   "metadata": {},
   "outputs": [],
   "source": [
    "'''\n",
    "# One attacked model \n",
    "inp1 = np.load('four_subset_data/inputs_three__1.csv.npy')\n",
    "inp2 = np.load('four_subset_data/inputs_three__2.csv.npy')\n",
    "inp3 = np.load('four_subset_data/inputs_three__3.csv.npy')\n",
    "\n",
    "# Two attacked models \n",
    "inp12 = np.load('four_subset_data/inputs_three__12.csv.npy')\n",
    "inp13 = np.load('four_subset_data/inputs_three__13.csv.npy')\n",
    "inp23 = np.load('four_subset_data/inputs_three__23.csv.npy')\n",
    "\n",
    "# Three attacked models\n",
    "inp123 = np.load('four_subset_data/inputs_three__123.csv.npy')\n",
    "'''\n",
    "# One attacked model \n",
    "inp1 = np.load('three_subset_data/inputs_precise__1.csv.npy')\n",
    "inp2 = np.load('three_subset_data/inputs_precise__2.csv.npy')\n",
    "inp3 = np.load('three_subset_data/inputs_precise__3.csv.npy')\n",
    "\n",
    "# Two attacked models \n",
    "inp12 = np.load('three_subset_data/inputs_precise__12.csv.npy')\n",
    "inp13 = np.load('three_subset_data/inputs_precise__13.csv.npy')\n",
    "inp23 = np.load('three_subset_data/inputs_precise__23.csv.npy')\n",
    "\n",
    "# Three attacked models\n",
    "inp123 = np.load('three_subset_data/inputs_precise__123.csv.npy')"
   ]
  },
  {
   "cell_type": "code",
   "execution_count": 4,
   "metadata": {},
   "outputs": [],
   "source": [
    "one_attack = [adv1, adv2, adv3]\n",
    "two_attack = [adv12, adv13, adv23]\n",
    "three_attack = [adv123]"
   ]
  },
  {
   "cell_type": "code",
   "execution_count": 5,
   "metadata": {},
   "outputs": [],
   "source": [
    "targets = np.load('three_subset_data/targets_precise_1.csv.npy')\n",
    "targets2 = np.load('three_subset_data/targets2_precise_1.csv.npy')\n",
    "targets3 = np.load('three_subset_data/targets3_precise_1.csv.npy')"
   ]
  },
  {
   "cell_type": "code",
   "execution_count": 6,
   "metadata": {},
   "outputs": [],
   "source": [
    "def get_label_confidence(image, model):\n",
    "    pr = model.predict(image)\n",
    "    pr = np.array([np.exp(x) for x in pr])\n",
    "    pr = pr / np.sum(pr)\n",
    "    image_class = model.predict_classes(image)\n",
    "    return image_class[0], max(max(pr))"
   ]
  },
  {
   "cell_type": "code",
   "execution_count": 7,
   "metadata": {},
   "outputs": [],
   "source": [
    "def attack_evaluation(num_img, adv, num_models):\n",
    "    l = []\n",
    "    for i in range(0, num_img):\n",
    "        res = [get_label_confidence(adv[i][np.newaxis, ...], model1.model), get_label_confidence(adv[i][np.newaxis, ...], model2.model), get_label_confidence(adv[i][np.newaxis, ...], model3.model)]\n",
    "        l.append(res)\n",
    "    return l"
   ]
  },
  {
   "cell_type": "code",
   "execution_count": 8,
   "metadata": {},
   "outputs": [],
   "source": [
    "targets = np.nonzero(targets)[1]\n",
    "targets2 = np.nonzero(targets2)[1]\n",
    "targets3 = np.nonzero(targets3)[1]\n",
    "\n",
    "def check_correct_precise(subset, num_img, adv, num_models, targets, targets2, targets3, true_label=0):\n",
    "    l = attack_evaluation(num_img, adv, num_models)\n",
    "    correct = []\n",
    "    for idx, res in enumerate(l):\n",
    "        if subset == '1':\n",
    "            output = True if res[0][0] == targets[idx] and res[1][0] == true_label and res[2][0] == true_label else False\n",
    "        elif subset == '2':\n",
    "            output = True if res[0][0] == true_label and res[1][0] == targets2[idx] and res[2][0] == true_label else False\n",
    "        elif subset == '3':\n",
    "            output = True if res[0][0] == true_label and res[1][0] == true_label and res[2][0] == targets3[idx] else False\n",
    "        elif subset == '12':\n",
    "            output = True if res[0][0] == targets[idx] and res[1][0] == targets2[idx] and res[2][0] == true_label else False\n",
    "        elif subset == '13':\n",
    "            output = True if res[0][0] == targets[idx] and res[1][0] == true_label and res[2][0] == targets3[idx] else False\n",
    "        elif subset == '23':\n",
    "            output = True if res[0][0] == true_label and res[1][0] == targets2[idx] and res[2][0] == targets3[idx] else False\n",
    "        elif subset == '123':\n",
    "            output = True if res[0][0] == targets[idx] and res[1][0] == targets2[idx] and res[2][0] == targets3[idx] else False\n",
    "            \n",
    "        if output:\n",
    "            correct.append(l.index(res))\n",
    "    return correct"
   ]
  },
  {
   "cell_type": "code",
   "execution_count": 9,
   "metadata": {},
   "outputs": [],
   "source": [
    "def check_correct(subset, num_img, adv, num_models, target_label=9, true_label=0):\n",
    "    l = attack_evaluation(num_img, adv, num_models)\n",
    "    correct = []\n",
    "    for res in l:\n",
    "        if subset == '1':\n",
    "            output = True if res[0][0] == target_label and res[1][0] == true_label and res[2][0] == true_label else False\n",
    "        elif subset == '2':\n",
    "            output = True if res[0][0] == true_label and res[1][0] == target_label and res[2][0] == true_label else False\n",
    "        elif subset == '3':\n",
    "            output = True if res[0][0] == true_label and res[1][0] == true_label and res[2][0] == target_label else False\n",
    "        elif subset == '12':\n",
    "            output = True if res[0][0] == target_label and res[1][0] == target_label and res[2][0] == true_label else False\n",
    "        elif subset == '13':\n",
    "            output = True if res[0][0] == target_label and res[1][0] == true_label and res[2][0] == target_label else False\n",
    "        elif subset == '23':\n",
    "            output = True if res[0][0] == true_label and res[1][0] == target_label and res[2][0] == target_label else False\n",
    "        elif subset == '123':\n",
    "            output = True if res[0][0] == target_label and res[1][0] == target_label and res[2][0] == target_label else False\n",
    "            \n",
    "        if output:\n",
    "            correct.append(l.index(res))\n",
    "    return correct"
   ]
  },
  {
   "cell_type": "code",
   "execution_count": 10,
   "metadata": {},
   "outputs": [],
   "source": [
    "from numpy import savetxt\n",
    "\n",
    "def save_results(inputs, adv, subset_attacked):\n",
    "    np.save('three_subset_data_clean/inputs__' + subset_attacked + '.csv', inputs)\n",
    "    np.save('three_subset_data_clean/adv_' + subset_attacked + '.csv', adv)"
   ]
  },
  {
   "cell_type": "code",
   "execution_count": 16,
   "metadata": {},
   "outputs": [
    {
     "name": "stdout",
     "output_type": "stream",
     "text": [
      "0.3466666666666667\n"
     ]
    }
   ],
   "source": [
    "correct1 = []\n",
    "total_correct = 0\n",
    "for i in range(len(one_attack)):\n",
    "    correct1.append(check_correct_precise(str(i+1), 25, one_attack[i], 3, targets, targets2, targets3))\n",
    "for elem in correct1: \n",
    "    total_correct += len(elem)    \n",
    "print(total_correct / 75)"
   ]
  },
  {
   "cell_type": "code",
   "execution_count": 19,
   "metadata": {},
   "outputs": [
    {
     "name": "stdout",
     "output_type": "stream",
     "text": [
      "0.013333333333333334\n"
     ]
    }
   ],
   "source": [
    "correct2 = []\n",
    "total_correct = 0\n",
    "correct2.append(check_correct_precise('12', 25, adv12, 3, targets, targets2, targets3))\n",
    "correct2.append(check_correct_precise('13', 25, adv13, 3, targets, targets2, targets3))\n",
    "correct2.append(check_correct_precise('23', 25, adv23, 3, targets, targets2, targets3))\n",
    "for elem in correct2: \n",
    "    total_correct += len(elem)\n",
    "print(total_correct / 75)"
   ]
  },
  {
   "cell_type": "code",
   "execution_count": 21,
   "metadata": {},
   "outputs": [
    {
     "name": "stdout",
     "output_type": "stream",
     "text": [
      "0.2\n"
     ]
    }
   ],
   "source": [
    "correct3 = []\n",
    "total_correct = 0\n",
    "correct3.append(check_correct_precise('123', 25, adv123, 3, targets, targets2, targets3))\n",
    "for elem in correct3: \n",
    "    total_correct += len(elem)\n",
    "print(total_correct / 25)"
   ]
  },
  {
   "cell_type": "code",
   "execution_count": 53,
   "metadata": {},
   "outputs": [
    {
     "name": "stdout",
     "output_type": "stream",
     "text": [
      "{0, 2, 10, 12, 22}\n"
     ]
    }
   ],
   "source": [
    "s1 = set(set(correct1[0]) & set(correct1[1]) & set(correct1[2]))\n",
    "s2 = set(set(correct2[0]) & set(correct2[1]) & set(correct2[2]))\n",
    "s3 = set(correct3[0])\n",
    "\n",
    "print(s1 & s2 & s3)"
   ]
  },
  {
   "cell_type": "code",
   "execution_count": 62,
   "metadata": {},
   "outputs": [],
   "source": [
    "def save_correct(inp, adv, subset, correct):\n",
    "    i = []\n",
    "    a = []\n",
    "    for elem in correct:\n",
    "        i.append(inp[elem])\n",
    "        a.append(adv[elem])\n",
    "    i = np.array(i)\n",
    "    a = np.array(i)\n",
    "    save_results(inp, adv, subset)"
   ]
  },
  {
   "cell_type": "code",
   "execution_count": 66,
   "metadata": {},
   "outputs": [],
   "source": [
    "# One Attacked\n",
    "save_correct(inp1, adv1, '1', correct1[0])\n",
    "save_correct(inp2, adv2, '2', correct1[1])\n",
    "save_correct(inp3, adv3, '3', correct1[2])\n",
    "\n",
    "# Two Attacked\n",
    "save_correct(inp12, adv12, '12', correct2[0])\n",
    "save_correct(inp13, adv13, '13', correct2[1])\n",
    "save_correct(inp23, adv23, '23', correct2[2])\n",
    "\n",
    "# Three Attacked\n",
    "save_correct(inp123, adv123, '123', correct3[0])"
   ]
  },
  {
   "cell_type": "code",
   "execution_count": null,
   "metadata": {},
   "outputs": [],
   "source": []
  }
 ],
 "metadata": {
  "kernelspec": {
   "display_name": "Python 3",
   "language": "python",
   "name": "python3"
  },
  "language_info": {
   "codemirror_mode": {
    "name": "ipython",
    "version": 3
   },
   "file_extension": ".py",
   "mimetype": "text/x-python",
   "name": "python",
   "nbconvert_exporter": "python",
   "pygments_lexer": "ipython3",
   "version": "3.6.8"
  }
 },
 "nbformat": 4,
 "nbformat_minor": 4
}
