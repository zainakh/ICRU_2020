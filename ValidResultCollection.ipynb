{
 "cells": [
  {
   "cell_type": "markdown",
   "metadata": {},
   "source": [
    "# Collect Valid Data\n",
    "\n",
    "### 10 images for each of the 15 combinations of attacks "
   ]
  },
  {
   "cell_type": "code",
   "execution_count": 1,
   "metadata": {},
   "outputs": [],
   "source": [
    "import numpy as np"
   ]
  },
  {
   "cell_type": "code",
   "execution_count": 6,
   "metadata": {},
   "outputs": [],
   "source": [
    "# One attacked model \n",
    "adv1 = np.load('four_subset_data/adv_att_1.csv.npy')\n",
    "adv2 = np.load('four_subset_data/adv_att_2.csv.npy')\n",
    "adv3 = np.load('four_subset_data/adv_att_3.csv.npy')\n",
    "adv4 = np.load('four_subset_data/adv_att_4.csv.npy')\n",
    "\n",
    "# Two attacked models \n",
    "adv12 = np.load('four_subset_data/adv_att_new_12.csv.npy')\n",
    "adv13 = np.load('four_subset_data/adv_att_13.csv.npy')\n",
    "adv14 = np.load('four_subset_data/adv_att_14.csv.npy')\n",
    "adv23 = np.load('four_subset_data/adv_att_23.csv.npy')\n",
    "adv24 = np.load('four_subset_data/adv_att_24.csv.npy')\n",
    "adv34 = np.load('four_subset_data/adv_att_34.csv.npy')\n",
    "\n",
    "# Three attacked models\n",
    "adv123 = np.load('four_subset_data/adv_att_123.csv.npy')\n",
    "adv124 = np.load('four_subset_data/adv_att_124.csv.npy')\n",
    "adv134 = np.load('four_subset_data/adv_att_134.csv.npy')\n",
    "adv234 = np.load('four_subset_data/adv_att_234.csv.npy')\n",
    "\n",
    "# Four attacked models\n",
    "adv1234 = np.load('four_subset_data/adv_att_1234.csv.npy')"
   ]
  },
  {
   "cell_type": "code",
   "execution_count": 11,
   "metadata": {},
   "outputs": [],
   "source": [
    "# One attacked model \n",
    "i1 = np.load('four_subset_data/inputs_att__1.csv.npy')\n",
    "i2 = np.load('four_subset_data/inputs_att__2.csv.npy')\n",
    "i3 = np.load('four_subset_data/inputs_att__3.csv.npy')\n",
    "i4 = np.load('four_subset_data/inputs_att__4.csv.npy')\n",
    "\n",
    "# Two attacked models \n",
    "i12 = np.load('four_subset_data/inputs_att_new__12.csv.npy')\n",
    "i13 = np.load('four_subset_data/inputs_att__13.csv.npy')\n",
    "i14 = np.load('four_subset_data/inputs_att__14.csv.npy')\n",
    "i23 = np.load('four_subset_data/inputs_att__23.csv.npy')\n",
    "i24 = np.load('four_subset_data/inputs_att__24.csv.npy')\n",
    "i34 = np.load('four_subset_data/inputs_att__34.csv.npy')\n",
    "\n",
    "# Three attacked models\n",
    "i123 = np.load('four_subset_data/inputs_att__123.csv.npy')\n",
    "i124 = np.load('four_subset_data/inputs_att__124.csv.npy')\n",
    "i134 = np.load('four_subset_data/inputs_att__134.csv.npy')\n",
    "i234 = np.load('four_subset_data/inputs_att__234.csv.npy')\n",
    "\n",
    "# Four attacked models\n",
    "i1234 = np.load('four_subset_data/inputs_att__1234.csv.npy')"
   ]
  },
  {
   "cell_type": "code",
   "execution_count": 12,
   "metadata": {},
   "outputs": [],
   "source": [
    "# One attacked model\n",
    "v1 = [0, 2, 3, 4, 6, 7, 8, 9, 10 ,11]\n",
    "v2 = [0, 2, 5, 7, 8, 10, 11, 12, 14, 15]\n",
    "v3 = [0, 2, 3, 6, 7, 8, 9, 11, 12, 13]\n",
    "v4 = [0, 1, 2, 3, 4, 5, 6, 7, 8, 9]\n",
    "\n",
    "# Two attacked models\n",
    "v12 = [0, 2, 3, 6, 8, 10, 11, 18, 19, 20]\n",
    "v13 = [0, 2, 3, 6, 8, 9, 11, 12, 13, 14]\n",
    "v14 = [0, 2, 3, 4, 5, 6, 7, 8, 9, 10]\n",
    "v23 = [0, 2, 7, 8, 9, 10, 11, 12, 13, 14]\n",
    "v24 = [0, 2, 4, 7, 9, 10, 11, 12, 14, 15]\n",
    "v34 = [0, 1, 2, 3, 5, 7, 12, 16, 17, 21]\n",
    "\n",
    "# Three attacked models\n",
    "v123 = [0, 2, 8, 11, 12, 14, 15, 16, 17, 20]\n",
    "v124 = [0, 2, 4, 7, 10, 12, 14, 21, 22, 23]\n",
    "v134 = [0, 1, 2, 4, 5, 6, 7, 8, 9, 10]\n",
    "v234 = [1, 2, 3, 4, 7, 8, 9, 10, 12, 13]\n",
    "\n",
    "# Four attacked models\n",
    "v1234 = [0, 2, 4, 5, 7, 8, 10, 12, 14, 16]"
   ]
  },
  {
   "cell_type": "code",
   "execution_count": 13,
   "metadata": {},
   "outputs": [],
   "source": [
    "all_adv = [adv1, adv2, adv3, adv4, adv12, adv13, adv14, adv23, adv24, adv34, adv123, adv124, adv134, adv234, adv1234]\n",
    "all_valid = [v1, v2, v3, v4, v12, v13, v14, v23, v24, v34, v123, v124, v134, v234, v1234]\n",
    "all_inp = [i1, i2, i3, i4, i12, i13, i14, i23, i24, i34, i123, i124, i134, i234, i1234]"
   ]
  },
  {
   "cell_type": "code",
   "execution_count": 14,
   "metadata": {},
   "outputs": [],
   "source": [
    "def extract_valid(adv, valid_index, subset_name):\n",
    "    if len(valid_index) != 10:\n",
    "        return 'ERR: Valid index not correct size'\n",
    "    res = []\n",
    "    for i in valid_index: \n",
    "        res.append(adv[i])\n",
    "    res = np.array(res)\n",
    "    np.save('four_subset_data_clean/' + 'adv_' + str(subset_name) + '.csv', res)"
   ]
  },
  {
   "cell_type": "code",
   "execution_count": 16,
   "metadata": {},
   "outputs": [],
   "source": [
    "for i in range(0, 15):\n",
    "    extract_valid(all_adv[i], all_valid[i], i)"
   ]
  },
  {
   "cell_type": "code",
   "execution_count": 17,
   "metadata": {},
   "outputs": [],
   "source": [
    "for i in range(0, 15):\n",
    "    extract_valid(all_inp[i], all_valid[i], str(i) + '_inp')"
   ]
  },
  {
   "cell_type": "code",
   "execution_count": null,
   "metadata": {},
   "outputs": [],
   "source": []
  }
 ],
 "metadata": {
  "kernelspec": {
   "display_name": "Python 3",
   "language": "python",
   "name": "python3"
  },
  "language_info": {
   "codemirror_mode": {
    "name": "ipython",
    "version": 3
   },
   "file_extension": ".py",
   "mimetype": "text/x-python",
   "name": "python",
   "nbconvert_exporter": "python",
   "pygments_lexer": "ipython3",
   "version": "3.6.8"
  }
 },
 "nbformat": 4,
 "nbformat_minor": 4
}
