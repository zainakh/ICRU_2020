{
 "cells": [
  {
   "cell_type": "markdown",
   "metadata": {},
   "source": [
    "# Process Results"
   ]
  },
  {
   "cell_type": "code",
   "execution_count": 2,
   "metadata": {},
   "outputs": [],
   "source": [
    "import numpy as np\n",
    "import matplotlib.pyplot as plt"
   ]
  },
  {
   "cell_type": "markdown",
   "metadata": {},
   "source": [
    "## Import Valid Data"
   ]
  },
  {
   "cell_type": "code",
   "execution_count": 6,
   "metadata": {},
   "outputs": [],
   "source": [
    "# One attacked model \n",
    "adv1 = np.load('four_subset_FGSM/adv_large_1.csv.npy')\n",
    "adv2 = np.load('four_subset_FGSM/adv_large_2.csv.npy')\n",
    "adv3 = np.load('four_subset_FGSM/adv_large_3.csv.npy')\n",
    "adv4 = np.load('four_subset_FGSM/adv_large_4.csv.npy')\n",
    "\n",
    "# Two attacked models \n",
    "adv12 = np.load('four_subset_FGSM/adv_large_12.csv.npy')\n",
    "adv13 = np.load('four_subset_FGSM/adv_large_13.csv.npy')\n",
    "adv14 = np.load('four_subset_FGSM/adv_large_14.csv.npy')\n",
    "adv23 = np.load('four_subset_FGSM/adv_large_23.csv.npy')\n",
    "adv24 = np.load('four_subset_FGSM/adv_large_24.csv.npy')\n",
    "adv34 = np.load('four_subset_FGSM/adv_large_34.csv.npy')\n",
    "\n",
    "# Three attacked models\n",
    "adv123 = np.load('four_subset_FGSM/adv_large_123.csv.npy')\n",
    "adv124 = np.load('four_subset_FGSM/adv_large_124.csv.npy')\n",
    "adv134 = np.load('four_subset_FGSM/adv_large_134.csv.npy')\n",
    "adv234 = np.load('four_subset_FGSM/adv_large_234.csv.npy')\n",
    "\n",
    "# Four attacked models\n",
    "adv1234 = np.load('four_subset_FGSM/adv_large_1234.csv.npy')"
   ]
  },
  {
   "cell_type": "code",
   "execution_count": null,
   "metadata": {},
   "outputs": [],
   "source": []
  },
  {
   "cell_type": "code",
   "execution_count": 3,
   "metadata": {},
   "outputs": [],
   "source": [
    "# One attacked model \n",
    "inp1 = np.load('inputs_0.csv.npy')\n",
    "inp2 = np.load('inputs_0.csv.npy')\n",
    "inp3 = np.load('inputs_0.csv.npy')\n",
    "inp4 = np.load('inputs_0.csv.npy')\n",
    "\n",
    "# Two attacked models \n",
    "inp12 = np.load('inputs_0.csv.npy')\n",
    "inp13 = np.load('inputs_0.csv.npy')\n",
    "inp14 = np.load('inputs_0.csv.npy')\n",
    "inp23 = np.load('inputs_0.csv.npy')\n",
    "inp24 = np.load('inputs_0.csv.npy')\n",
    "inp34 = np.load('inputs_0.csv.npy')\n",
    "\n",
    "# Three attacked models\n",
    "inp123 = np.load('inputs_0.csv.npy')\n",
    "inp124 = np.load('inputs_0.csv.npy')\n",
    "inp134 = np.load('inputs_0.csv.npy')\n",
    "inp234 = np.load('inputs_0.csv.npy')\n",
    "\n",
    "# Four attacked models\n",
    "inp1234 = np.load('inputs_0.csv.npy')"
   ]
  },
  {
   "cell_type": "code",
   "execution_count": 4,
   "metadata": {},
   "outputs": [
    {
     "data": {
      "text/plain": [
       "(25, 28, 28, 1)"
      ]
     },
     "execution_count": 4,
     "metadata": {},
     "output_type": "execute_result"
    }
   ],
   "source": [
    "inp1.shape"
   ]
  },
  {
   "cell_type": "code",
   "execution_count": 7,
   "metadata": {},
   "outputs": [],
   "source": [
    "one_attack = [adv1, adv2, adv3, adv4]\n",
    "two_attack = [adv12, adv13, adv14, adv23, adv24, adv34]\n",
    "three_attack = [adv123, adv124, adv134, adv234]\n",
    "four_attack = [adv1234]\n",
    "\n",
    "one_attack_inp = [inp1, inp2, inp3, inp4]\n",
    "two_attack_inp = [inp12, inp13, inp14, inp23, inp24, inp34]\n",
    "three_attack_inp = [inp123, inp124, inp134, inp234]\n",
    "four_attack_inp = [inp1234]"
   ]
  },
  {
   "cell_type": "markdown",
   "metadata": {},
   "source": [
    "## Find & Plot Attack Size Differences for Varied M & N \n",
    "\n",
    "### M = Number attacked\n",
    "### N = Number defended"
   ]
  },
  {
   "cell_type": "code",
   "execution_count": 6,
   "metadata": {},
   "outputs": [
    {
     "name": "stderr",
     "output_type": "stream",
     "text": [
      "Using TensorFlow backend.\n"
     ]
    }
   ],
   "source": [
    "import tensorflow as tf\n",
    "import tensorflow.keras.backend as K\n",
    "from keras.models import load_model, Sequential\n",
    "from keras.layers import Dense, Activation, Conv2D, MaxPooling2D, Flatten"
   ]
  },
  {
   "cell_type": "code",
   "execution_count": 7,
   "metadata": {},
   "outputs": [],
   "source": [
    "sess = tf.Session(config=tf.ConfigProto())\n",
    "K.set_session(sess)\n",
    "\n",
    "# CNN Model for MNIST \n",
    "class MNIST_Model:\n",
    "    def __init__(self, session=None):\n",
    "        self.num_channels = 1\n",
    "        self.image_size = 28\n",
    "        self.num_labels = 10\n",
    "\n",
    "        model = Sequential()\n",
    "\n",
    "        model.add(Conv2D(32, (3, 3),\n",
    "                         input_shape=(28, 28, 1)))\n",
    "        model.add(Activation('relu'))\n",
    "        model.add(Conv2D(32, (3, 3)))\n",
    "        model.add(Activation('relu'))\n",
    "        model.add(MaxPooling2D(pool_size=(2, 2)))\n",
    "\n",
    "        model.add(Conv2D(64, (3, 3)))\n",
    "        model.add(Activation('relu'))\n",
    "        model.add(Conv2D(64, (3, 3)))\n",
    "        model.add(Activation('relu'))\n",
    "        model.add(MaxPooling2D(pool_size=(2, 2)))\n",
    "\n",
    "        model.add(Flatten())\n",
    "        model.add(Dense(200))\n",
    "        model.add(Activation('relu'))\n",
    "        model.add(Dense(200))\n",
    "        model.add(Activation('relu'))\n",
    "        model.add(Dense(10))\n",
    "\n",
    "        self.model = model\n",
    "\n",
    "    def predict(self, data):\n",
    "        return self.model(data)\n",
    "    \n",
    "def fn(correct, predicted):\n",
    "    return tf.nn.softmax_cross_entropy_with_logits(labels=correct,\n",
    "                                                   logits=predicted)"
   ]
  },
  {
   "cell_type": "code",
   "execution_count": 8,
   "metadata": {},
   "outputs": [
    {
     "name": "stdout",
     "output_type": "stream",
     "text": [
      "WARNING:tensorflow:From /home/zainkhan/.local/share/virtualenvs/xu-jXQ59E2g/lib/python3.6/site-packages/keras/backend/tensorflow_backend.py:4070: The name tf.nn.max_pool is deprecated. Please use tf.nn.max_pool2d instead.\n",
      "\n",
      "WARNING:tensorflow:From <ipython-input-7-612c9761a542>:40: softmax_cross_entropy_with_logits (from tensorflow.python.ops.nn_ops) is deprecated and will be removed in a future version.\n",
      "Instructions for updating:\n",
      "\n",
      "Future major versions of TensorFlow will allow gradients to flow\n",
      "into the labels input on backprop by default.\n",
      "\n",
      "See `tf.nn.softmax_cross_entropy_with_logits_v2`.\n",
      "\n",
      "WARNING:tensorflow:From /home/zainkhan/.local/share/virtualenvs/xu-jXQ59E2g/lib/python3.6/site-packages/keras/backend/tensorflow_backend.py:422: The name tf.global_variables is deprecated. Please use tf.compat.v1.global_variables instead.\n",
      "\n"
     ]
    }
   ],
   "source": [
    "model1 = MNIST_Model()\n",
    "model1.model = load_model('models/trained_model1', custom_objects={'fn':fn})\n",
    "\n",
    "model2 = MNIST_Model()\n",
    "model2.model = load_model('models/trained_model2', custom_objects={'fn':fn})\n",
    "\n",
    "model3 = MNIST_Model()\n",
    "model3.model = load_model('models/trained_model3', custom_objects={'fn':fn})\n",
    "\n",
    "model4 = MNIST_Model()\n",
    "model4.model = load_model('models/trained_model4', custom_objects={'fn':fn})\n",
    "\n",
    "model5 = MNIST_Model()\n",
    "model5.model = load_model('models/trained_model5', custom_objects={'fn':fn})"
   ]
  },
  {
   "cell_type": "code",
   "execution_count": 11,
   "metadata": {},
   "outputs": [],
   "source": [
    "def size_of_attack(adv, inputs, num_img=10):\n",
    "    perturb = adv[0] - inputs\n",
    "    perturb_mean =  np.sum(np.abs(perturb)) / num_img \n",
    "    perturb_std = np.std(np.array([sum(x) for x in perturb]))\n",
    "    return (perturb_mean, perturb_std)"
   ]
  },
  {
   "cell_type": "code",
   "execution_count": 12,
   "metadata": {},
   "outputs": [],
   "source": [
    "num_one_attack = 4\n",
    "num_two_attack = 6\n",
    "num_three_attack = 4\n",
    "mean_attack = []\n",
    "std_attack = []\n",
    "\n",
    "# M = 1\n",
    "mean = 0\n",
    "var = 0\n",
    "for i in range(len(one_attack)):\n",
    "    res = size_of_attack(one_attack[i], one_attack_inp[i])\n",
    "    mean += res[0]\n",
    "    var += res[1] ** 2\n",
    "mean_attack.append(mean / num_one_attack)\n",
    "std_attack.append(np.sqrt(var))\n",
    "\n",
    "# M = 2\n",
    "mean = 0\n",
    "var = 0\n",
    "for i in range(len(two_attack)):\n",
    "    res = size_of_attack(two_attack[i], two_attack_inp[i])\n",
    "    mean += res[0]\n",
    "    var += res[1] ** 2\n",
    "mean_attack.append(mean / num_two_attack)\n",
    "std_attack.append(np.sqrt(var))\n",
    "\n",
    "# M = 3\n",
    "mean = 0\n",
    "var = 0\n",
    "for i in range(len(three_attack)):\n",
    "    res = size_of_attack(three_attack[i], three_attack_inp[i])\n",
    "    mean += res[0]\n",
    "    var += res[1] ** 2\n",
    "mean_attack.append(mean/ num_three_attack)\n",
    "std_attack.append(np.sqrt(var))\n",
    "\n",
    "# M = 4\n",
    "res = size_of_attack(four_attack[0], four_attack_inp[0])\n",
    "mean = res[0]\n",
    "var = res[1] ** 2\n",
    "mean_attack.append(mean)\n",
    "std_attack.append(np.sqrt(var))"
   ]
  },
  {
   "cell_type": "code",
   "execution_count": 13,
   "metadata": {},
   "outputs": [
    {
     "name": "stdout",
     "output_type": "stream",
     "text": [
      "[1135.8742309570312, 839.1818115234373, 1049.0494506835937, 484.375341796875]\n",
      "[11.322341616517631, 11.944428914639037, 11.000819295507961, 3.799449920654297]\n"
     ]
    }
   ],
   "source": [
    "print(mean_attack)\n",
    "print(std_attack)"
   ]
  },
  {
   "cell_type": "code",
   "execution_count": 14,
   "metadata": {},
   "outputs": [],
   "source": [
    "def get_label_probabilities(image, model):\n",
    "    image = image[0]\n",
    "    pr = model.predict(image)\n",
    "    pr = np.array([np.exp(x) for x in pr])\n",
    "    return pr / np.sum(pr)\n",
    "\n",
    "def get_label_probabilities2(image, model):\n",
    "    pr = model.predict(image)\n",
    "    pr = np.array([np.exp(x) for x in pr])\n",
    "    return pr / np.sum(pr)\n",
    "\n",
    "def avg_probability(adv, model, flag):\n",
    "    pr_true_avg = 0\n",
    "    for i in range(0, len(adv)):\n",
    "        if flag == 0:\n",
    "            pr_true_avg += get_label_probabilities(adv[i][np.newaxis, ...], model)[0][0]\n",
    "        else:\n",
    "            pr_true_avg += get_label_probabilities2(adv[i][np.newaxis, ...], model)[0][0]\n",
    "    return pr_true_avg / len(adv)"
   ]
  },
  {
   "cell_type": "code",
   "execution_count": 15,
   "metadata": {},
   "outputs": [
    {
     "ename": "TypeError",
     "evalue": "avg_probability() missing 1 required positional argument: 'flag'",
     "output_type": "error",
     "traceback": [
      "\u001b[0;31m---------------------------------------------------------------------------\u001b[0m",
      "\u001b[0;31mTypeError\u001b[0m                                 Traceback (most recent call last)",
      "\u001b[0;32m<ipython-input-15-cc8a6a9efcbb>\u001b[0m in \u001b[0;36m<module>\u001b[0;34m\u001b[0m\n\u001b[1;32m      3\u001b[0m \u001b[0mmean\u001b[0m \u001b[0;34m=\u001b[0m \u001b[0;36m0\u001b[0m\u001b[0;34m\u001b[0m\u001b[0;34m\u001b[0m\u001b[0m\n\u001b[1;32m      4\u001b[0m \u001b[0;32mfor\u001b[0m \u001b[0madv\u001b[0m \u001b[0;32min\u001b[0m \u001b[0mone_attack\u001b[0m\u001b[0;34m:\u001b[0m\u001b[0;34m\u001b[0m\u001b[0;34m\u001b[0m\u001b[0m\n\u001b[0;32m----> 5\u001b[0;31m     \u001b[0mmean\u001b[0m \u001b[0;34m+=\u001b[0m \u001b[0mavg_probability\u001b[0m\u001b[0;34m(\u001b[0m\u001b[0madv\u001b[0m\u001b[0;34m,\u001b[0m \u001b[0mmodel5\u001b[0m\u001b[0;34m.\u001b[0m\u001b[0mmodel\u001b[0m\u001b[0;34m)\u001b[0m\u001b[0;34m\u001b[0m\u001b[0;34m\u001b[0m\u001b[0m\n\u001b[0m\u001b[1;32m      6\u001b[0m \u001b[0mmean_transferability\u001b[0m\u001b[0;34m.\u001b[0m\u001b[0mappend\u001b[0m\u001b[0;34m(\u001b[0m\u001b[0mmean\u001b[0m \u001b[0;34m/\u001b[0m \u001b[0mlen\u001b[0m\u001b[0;34m(\u001b[0m\u001b[0mone_attack\u001b[0m\u001b[0;34m)\u001b[0m\u001b[0;34m)\u001b[0m\u001b[0;34m\u001b[0m\u001b[0;34m\u001b[0m\u001b[0m\n",
      "\u001b[0;31mTypeError\u001b[0m: avg_probability() missing 1 required positional argument: 'flag'"
     ]
    }
   ],
   "source": [
    "mean_transferability = []\n",
    "\n",
    "mean = 0\n",
    "for adv in one_attack:\n",
    "    mean += avg_probability(adv, model5.model)\n",
    "mean_transferability.append(mean / len(one_attack))"
   ]
  },
  {
   "cell_type": "code",
   "execution_count": 16,
   "metadata": {},
   "outputs": [
    {
     "ename": "TypeError",
     "evalue": "avg_probability() missing 1 required positional argument: 'flag'",
     "output_type": "error",
     "traceback": [
      "\u001b[0;31m---------------------------------------------------------------------------\u001b[0m",
      "\u001b[0;31mTypeError\u001b[0m                                 Traceback (most recent call last)",
      "\u001b[0;32m<ipython-input-16-5b769c975613>\u001b[0m in \u001b[0;36m<module>\u001b[0;34m\u001b[0m\n\u001b[1;32m      1\u001b[0m \u001b[0mmean\u001b[0m \u001b[0;34m=\u001b[0m \u001b[0;36m0\u001b[0m\u001b[0;34m\u001b[0m\u001b[0;34m\u001b[0m\u001b[0m\n\u001b[1;32m      2\u001b[0m \u001b[0;32mfor\u001b[0m \u001b[0madv\u001b[0m \u001b[0;32min\u001b[0m \u001b[0mtwo_attack\u001b[0m\u001b[0;34m:\u001b[0m\u001b[0;34m\u001b[0m\u001b[0;34m\u001b[0m\u001b[0m\n\u001b[0;32m----> 3\u001b[0;31m     \u001b[0mmean\u001b[0m \u001b[0;34m+=\u001b[0m \u001b[0mavg_probability\u001b[0m\u001b[0;34m(\u001b[0m\u001b[0madv\u001b[0m\u001b[0;34m,\u001b[0m \u001b[0mmodel5\u001b[0m\u001b[0;34m.\u001b[0m\u001b[0mmodel\u001b[0m\u001b[0;34m)\u001b[0m\u001b[0;34m\u001b[0m\u001b[0;34m\u001b[0m\u001b[0m\n\u001b[0m\u001b[1;32m      4\u001b[0m \u001b[0mmean_transferability\u001b[0m\u001b[0;34m.\u001b[0m\u001b[0mappend\u001b[0m\u001b[0;34m(\u001b[0m\u001b[0mmean\u001b[0m \u001b[0;34m/\u001b[0m \u001b[0mlen\u001b[0m\u001b[0;34m(\u001b[0m\u001b[0mtwo_attack\u001b[0m\u001b[0;34m)\u001b[0m\u001b[0;34m)\u001b[0m\u001b[0;34m\u001b[0m\u001b[0;34m\u001b[0m\u001b[0m\n",
      "\u001b[0;31mTypeError\u001b[0m: avg_probability() missing 1 required positional argument: 'flag'"
     ]
    }
   ],
   "source": [
    "mean = 0\n",
    "for adv in two_attack:\n",
    "    mean += avg_probability(adv, model5.model)\n",
    "mean_transferability.append(mean / len(two_attack))"
   ]
  },
  {
   "cell_type": "code",
   "execution_count": 17,
   "metadata": {},
   "outputs": [
    {
     "ename": "TypeError",
     "evalue": "avg_probability() missing 1 required positional argument: 'flag'",
     "output_type": "error",
     "traceback": [
      "\u001b[0;31m---------------------------------------------------------------------------\u001b[0m",
      "\u001b[0;31mTypeError\u001b[0m                                 Traceback (most recent call last)",
      "\u001b[0;32m<ipython-input-17-833ec8683be2>\u001b[0m in \u001b[0;36m<module>\u001b[0;34m\u001b[0m\n\u001b[1;32m      1\u001b[0m \u001b[0mmean\u001b[0m \u001b[0;34m=\u001b[0m \u001b[0;36m0\u001b[0m\u001b[0;34m\u001b[0m\u001b[0;34m\u001b[0m\u001b[0m\n\u001b[1;32m      2\u001b[0m \u001b[0;32mfor\u001b[0m \u001b[0madv\u001b[0m \u001b[0;32min\u001b[0m \u001b[0mthree_attack\u001b[0m\u001b[0;34m:\u001b[0m\u001b[0;34m\u001b[0m\u001b[0;34m\u001b[0m\u001b[0m\n\u001b[0;32m----> 3\u001b[0;31m     \u001b[0mmean\u001b[0m \u001b[0;34m+=\u001b[0m \u001b[0mavg_probability\u001b[0m\u001b[0;34m(\u001b[0m\u001b[0madv\u001b[0m\u001b[0;34m,\u001b[0m \u001b[0mmodel5\u001b[0m\u001b[0;34m.\u001b[0m\u001b[0mmodel\u001b[0m\u001b[0;34m)\u001b[0m\u001b[0;34m\u001b[0m\u001b[0;34m\u001b[0m\u001b[0m\n\u001b[0m\u001b[1;32m      4\u001b[0m \u001b[0mmean_transferability\u001b[0m\u001b[0;34m.\u001b[0m\u001b[0mappend\u001b[0m\u001b[0;34m(\u001b[0m\u001b[0mmean\u001b[0m \u001b[0;34m/\u001b[0m \u001b[0mlen\u001b[0m\u001b[0;34m(\u001b[0m\u001b[0mthree_attack\u001b[0m\u001b[0;34m)\u001b[0m\u001b[0;34m)\u001b[0m\u001b[0;34m\u001b[0m\u001b[0;34m\u001b[0m\u001b[0m\n",
      "\u001b[0;31mTypeError\u001b[0m: avg_probability() missing 1 required positional argument: 'flag'"
     ]
    }
   ],
   "source": [
    "mean = 0\n",
    "for adv in three_attack:\n",
    "    mean += avg_probability(adv, model5.model)\n",
    "mean_transferability.append(mean / len(three_attack))"
   ]
  },
  {
   "cell_type": "code",
   "execution_count": 18,
   "metadata": {},
   "outputs": [
    {
     "ename": "TypeError",
     "evalue": "avg_probability() missing 1 required positional argument: 'flag'",
     "output_type": "error",
     "traceback": [
      "\u001b[0;31m---------------------------------------------------------------------------\u001b[0m",
      "\u001b[0;31mTypeError\u001b[0m                                 Traceback (most recent call last)",
      "\u001b[0;32m<ipython-input-18-b1c63a68f4be>\u001b[0m in \u001b[0;36m<module>\u001b[0;34m\u001b[0m\n\u001b[1;32m      1\u001b[0m \u001b[0mmean\u001b[0m \u001b[0;34m=\u001b[0m \u001b[0;36m0\u001b[0m\u001b[0;34m\u001b[0m\u001b[0;34m\u001b[0m\u001b[0m\n\u001b[1;32m      2\u001b[0m \u001b[0;32mfor\u001b[0m \u001b[0madv\u001b[0m \u001b[0;32min\u001b[0m \u001b[0mfour_attack\u001b[0m\u001b[0;34m:\u001b[0m\u001b[0;34m\u001b[0m\u001b[0;34m\u001b[0m\u001b[0m\n\u001b[0;32m----> 3\u001b[0;31m     \u001b[0mmean\u001b[0m \u001b[0;34m+=\u001b[0m \u001b[0mavg_probability\u001b[0m\u001b[0;34m(\u001b[0m\u001b[0madv\u001b[0m\u001b[0;34m,\u001b[0m \u001b[0mmodel5\u001b[0m\u001b[0;34m.\u001b[0m\u001b[0mmodel\u001b[0m\u001b[0;34m)\u001b[0m\u001b[0;34m\u001b[0m\u001b[0;34m\u001b[0m\u001b[0m\n\u001b[0m\u001b[1;32m      4\u001b[0m \u001b[0mmean_transferability\u001b[0m\u001b[0;34m.\u001b[0m\u001b[0mappend\u001b[0m\u001b[0;34m(\u001b[0m\u001b[0mmean\u001b[0m \u001b[0;34m/\u001b[0m \u001b[0mlen\u001b[0m\u001b[0;34m(\u001b[0m\u001b[0mfour_attack\u001b[0m\u001b[0;34m)\u001b[0m\u001b[0;34m)\u001b[0m\u001b[0;34m\u001b[0m\u001b[0;34m\u001b[0m\u001b[0m\n",
      "\u001b[0;31mTypeError\u001b[0m: avg_probability() missing 1 required positional argument: 'flag'"
     ]
    }
   ],
   "source": [
    "mean = 0\n",
    "for adv in four_attack:\n",
    "    mean += avg_probability(adv, model5.model)\n",
    "mean_transferability.append(mean / len(four_attack))"
   ]
  },
  {
   "cell_type": "code",
   "execution_count": 46,
   "metadata": {},
   "outputs": [
    {
     "data": {
      "text/plain": [
       "[0.9516146091744304,\n",
       " 0.7765312717060565,\n",
       " 0.2385784080938538,\n",
       " 0.06487177476662315]"
      ]
     },
     "execution_count": 46,
     "metadata": {},
     "output_type": "execute_result"
    }
   ],
   "source": [
    "mean_transferability"
   ]
  },
  {
   "cell_type": "code",
   "execution_count": 54,
   "metadata": {},
   "outputs": [],
   "source": [
    "difference_transferability = []\n",
    "\n",
    "mean = 0\n",
    "for i in range(len(one_attack)):\n",
    "    mean += avg_probability(one_attack_inp[i], model5.model, 1) - avg_probability(one_attack[i], model5.model, 0)\n",
    "difference_transferability.append(mean / len(one_attack))"
   ]
  },
  {
   "cell_type": "code",
   "execution_count": 55,
   "metadata": {},
   "outputs": [],
   "source": [
    "mean = 0\n",
    "for i in range(len(two_attack)):\n",
    "    mean += avg_probability(two_attack_inp[i], model5.model, 1) - avg_probability(two_attack[i], model5.model, 0)\n",
    "difference_transferability.append(mean / len(two_attack))\n",
    "\n",
    "mean = 0\n",
    "for i in range(len(three_attack)):\n",
    "    mean += avg_probability(three_attack_inp[i], model5.model, 1) - avg_probability(three_attack[i], model5.model, 0)\n",
    "difference_transferability.append(mean / len(three_attack))\n",
    "\n",
    "mean = 0\n",
    "for i in range(len(four_attack)):\n",
    "    mean += avg_probability(four_attack_inp[i], model5.model, 1) - avg_probability(four_attack[i], model5.model, 0)\n",
    "difference_transferability.append(mean / len(four_attack))"
   ]
  },
  {
   "cell_type": "code",
   "execution_count": 59,
   "metadata": {},
   "outputs": [
    {
     "data": {
      "text/plain": [
       "[10707.6255859375, 10450.355078125, 9256.6046875, 10422.35859375]"
      ]
     },
     "execution_count": 59,
     "metadata": {},
     "output_type": "execute_result"
    }
   ],
   "source": [
    "mean_attack"
   ]
  },
  {
   "cell_type": "code",
   "execution_count": 56,
   "metadata": {},
   "outputs": [
    {
     "data": {
      "text/plain": [
       "[0.048236511833965795,\n",
       " 0.22152344031132087,\n",
       " 0.7613618918939391,\n",
       " 0.9351257277987608]"
      ]
     },
     "execution_count": 56,
     "metadata": {},
     "output_type": "execute_result"
    }
   ],
   "source": [
    "difference_transferability"
   ]
  },
  {
   "cell_type": "code",
   "execution_count": 19,
   "metadata": {},
   "outputs": [
    {
     "data": {
      "text/plain": [
       "<Figure size 432x288 with 0 Axes>"
      ]
     },
     "execution_count": 19,
     "metadata": {},
     "output_type": "execute_result"
    },
    {
     "data": {
      "text/plain": [
       "<Figure size 432x288 with 0 Axes>"
      ]
     },
     "metadata": {},
     "output_type": "display_data"
    },
    {
     "data": {
      "text/plain": [
       "<Figure size 432x288 with 0 Axes>"
      ]
     },
     "metadata": {},
     "output_type": "display_data"
    }
   ],
   "source": [
    "plt.set_cmap('Greys_r')\n",
    "plt.style.use('seaborn-dark-palette')\n",
    "plt.figure()"
   ]
  },
  {
   "cell_type": "markdown",
   "metadata": {},
   "source": [
    "## Plot Magnitude vs M, N"
   ]
  },
  {
   "cell_type": "code",
   "execution_count": 20,
   "metadata": {},
   "outputs": [
    {
     "data": {
      "image/png": "[encoded data removed]",
      "text/plain": [
       "<Figure size 432x288 with 1 Axes>"
      ]
     },
     "metadata": {
      "needs_background": "light"
     },
     "output_type": "display_data"
    }
   ],
   "source": [
    "from matplotlib.ticker import (AutoLocator, AutoMinorLocator)\n",
    "\n",
    "M = [1, 2, 3, 4]\n",
    "N = [3, 2, 1, 0]\n",
    "\n",
    "plt.plot(M, mean_attack, linestyle='-', marker='o')\n",
    "plt.xticks(M, ['1', '2', '3', '4'])\n",
    "plt.xlabel('Number of Attacked Models (#)')\n",
    "plt.ylabel('Magnitude of Attack Perturbations')\n",
    "ax = plt.gca()\n",
    "ax.tick_params(axis=u'both', which=u'both',length=0)\n",
    "fig = plt.gcf()\n",
    "plt.grid()\n",
    "plt.show()\n",
    "fig.savefig('magnitude_of_attack_FGSM_four.png')"
   ]
  },
  {
   "cell_type": "markdown",
   "metadata": {},
   "source": [
    "## Transferability of Attack vs M, N"
   ]
  },
  {
   "cell_type": "code",
   "execution_count": 64,
   "metadata": {},
   "outputs": [
    {
     "data": {
      "image/png": "[encoded data removed]",
      "text/plain": [
       "<Figure size 432x288 with 1 Axes>"
      ]
     },
     "metadata": {
      "needs_background": "light"
     },
     "output_type": "display_data"
    }
   ],
   "source": [
    "M = [1, 2, 3, 4]\n",
    "plt.plot(M, mean_transferability, linestyle='-', marker='o')\n",
    "plt.xticks(M, ['1', '2', '3', '4'])\n",
    "plt.xlabel('Number of Attacked Models (#)')\n",
    "plt.ylabel('True Label Confidence w/ New Model (%)')\n",
    "ax = plt.gca()\n",
    "ax.tick_params(axis=u'both', which=u'both',length=0)\n",
    "fig = plt.gcf()\n",
    "plt.grid()\n",
    "plt.show()\n",
    "\n",
    "fig.savefig('true_label_confidence.png')"
   ]
  },
  {
   "cell_type": "code",
   "execution_count": 23,
   "metadata": {},
   "outputs": [],
   "source": [
    "def plot_adversarial(inputs, adv, num):\n",
    "    fig, (ax1, ax2, ax3) = plt.subplots(1, 3)\n",
    "    ax2.axis('off')\n",
    "    ax2.imshow(inputs[0][:,:,0])\n",
    "    ax1.axis('off')\n",
    "    ax1.imshow(adv[0][:,:,0])\n",
    "    ax3.axis('off')\n",
    "    ax3.imshow(adv[0][:,:,0] - inputs[0][:,:,0])\n",
    "    ax1.margins(0,0)\n",
    "    ax2.margins(0,0)\n",
    "    ax3.margins(0,0)\n",
    "    fig.savefig(str(num) + '_attack_example.pdf', bbox_inches = 'tight', pad_inches = 0)"
   ]
  },
  {
   "cell_type": "code",
   "execution_count": 24,
   "metadata": {},
   "outputs": [
    {
     "data": {
      "image/png": "[encoded data removed]",
      "text/plain": [
       "<Figure size 432x288 with 3 Axes>"
      ]
     },
     "metadata": {
      "needs_background": "light"
     },
     "output_type": "display_data"
    }
   ],
   "source": [
    "plot_adversarial(adv1, inp1, 1)"
   ]
  },
  {
   "cell_type": "code",
   "execution_count": 25,
   "metadata": {},
   "outputs": [
    {
     "data": {
      "image/png": "[encoded data removed]",
      "text/plain": [
       "<Figure size 432x288 with 3 Axes>"
      ]
     },
     "metadata": {
      "needs_background": "light"
     },
     "output_type": "display_data"
    }
   ],
   "source": [
    "plot_adversarial(adv23, inp23, 2)"
   ]
  },
  {
   "cell_type": "code",
   "execution_count": 26,
   "metadata": {},
   "outputs": [
    {
     "data": {
      "image/png": "[encoded data removed]",
      "text/plain": [
       "<Figure size 432x288 with 3 Axes>"
      ]
     },
     "metadata": {
      "needs_background": "light"
     },
     "output_type": "display_data"
    }
   ],
   "source": [
    "plot_adversarial(adv123, inp123, 3)"
   ]
  },
  {
   "cell_type": "code",
   "execution_count": 40,
   "metadata": {},
   "outputs": [
    {
     "data": {
      "image/png": "[encoded data removed]",
      "text/plain": [
       "<Figure size 432x288 with 3 Axes>"
      ]
     },
     "metadata": {
      "needs_background": "light"
     },
     "output_type": "display_data"
    }
   ],
   "source": [
    "plot_adversarial(adv1234, inp1234, 4)"
   ]
  },
  {
   "cell_type": "markdown",
   "metadata": {},
   "source": [
    "# Compute Probabilities of Successful Attack"
   ]
  },
  {
   "cell_type": "code",
   "execution_count": 19,
   "metadata": {},
   "outputs": [],
   "source": [
    "# One attacked model \n",
    "adv1 = np.load('four_subset_data/adv_att_1.csv.npy')\n",
    "adv2 = np.load('four_subset_data/adv_att_2.csv.npy')\n",
    "adv3 = np.load('four_subset_data/adv_att_3.csv.npy')\n",
    "adv4 = np.load('four_subset_data/adv_att_4.csv.npy')\n",
    "\n",
    "# Two attacked models \n",
    "adv12 = np.load('four_subset_data/adv_att_new_12.csv.npy')\n",
    "adv13 = np.load('four_subset_data/adv_att_13.csv.npy')\n",
    "adv14 = np.load('four_subset_data/adv_att_14.csv.npy')\n",
    "adv23 = np.load('four_subset_data/adv_att_23.csv.npy')\n",
    "adv24 = np.load('four_subset_data/adv_att_24.csv.npy')\n",
    "adv34 = np.load('four_subset_data/adv_att_34.csv.npy')\n",
    "\n",
    "# Three attacked models\n",
    "adv123 = np.load('four_subset_data/adv_att_123.csv.npy')\n",
    "adv124 = np.load('four_subset_data/adv_att_124.csv.npy')\n",
    "adv134 = np.load('four_subset_data/adv_att_134.csv.npy')\n",
    "adv234 = np.load('four_subset_data/adv_att_234.csv.npy')\n",
    "\n",
    "# Four attacked models\n",
    "adv1234 = np.load('four_subset_data/adv_att_1234.csv.npy')"
   ]
  },
  {
   "cell_type": "code",
   "execution_count": 20,
   "metadata": {},
   "outputs": [],
   "source": [
    "one_attack = [adv1, adv2, adv3, adv4]\n",
    "two_attack = [adv12, adv13, adv14, adv23, adv24, adv34]\n",
    "three_attack = [adv123, adv124, adv134, adv234]\n",
    "four_attack = [adv1234]"
   ]
  },
  {
   "cell_type": "code",
   "execution_count": 21,
   "metadata": {},
   "outputs": [
    {
     "name": "stdout",
     "output_type": "stream",
     "text": [
      "(25, 28, 28, 1)\n"
     ]
    }
   ],
   "source": [
    "print(adv12.shape)"
   ]
  },
  {
   "cell_type": "code",
   "execution_count": 4,
   "metadata": {},
   "outputs": [],
   "source": [
    "def get_label_confidence(image, model):\n",
    "    pr = model.predict(image)\n",
    "    pr = np.array([np.exp(x) for x in pr])\n",
    "    pr = pr / np.sum(pr)\n",
    "    image_class = model.predict_classes(image)\n",
    "    return image_class[0], max(max(pr))"
   ]
  },
  {
   "cell_type": "code",
   "execution_count": 23,
   "metadata": {},
   "outputs": [],
   "source": [
    "def attack_evaluation(num_img, adv, num_models):\n",
    "    l = []\n",
    "    for i in range(0, num_img):\n",
    "        res = [get_label_confidence(adv[i][np.newaxis, ...], model1.model), get_label_confidence(adv[i][np.newaxis, ...], model2.model), get_label_confidence(adv[i][np.newaxis, ...], model3.model), get_label_confidence(adv[i][np.newaxis, ...], model4.model)]\n",
    "        l.append(res)\n",
    "    return l"
   ]
  },
  {
   "cell_type": "code",
   "execution_count": 24,
   "metadata": {},
   "outputs": [],
   "source": [
    "def check_correct(subset, num_img, adv, num_models, target_label=9, true_label=0):\n",
    "    l = attack_evaluation(num_img, adv, num_models)\n",
    "    correct = []\n",
    "    for res in l:\n",
    "        if subset == '1':\n",
    "            output = True if res[0][0] == target_label and res[1][0] == true_label and res[2][0] == true_label and res[3][0] == true_label else False\n",
    "        elif subset == '2':\n",
    "            output = True if res[0][0] == true_label and res[1][0] == target_label and res[2][0] == true_label and res[3][0] == true_label else False\n",
    "        elif subset == '3':\n",
    "            output = True if res[0][0] == true_label and res[1][0] == true_label and res[2][0] == target_label and res[3][0] == true_label else False\n",
    "        elif subset == '4':\n",
    "            output = True if res[0][0] == true_label and res[1][0] == true_label and res[2][0] == true_label and res[3][0] == target_label else False\n",
    "        elif subset == '12':\n",
    "            output = True if res[0][0] == target_label and res[1][0] == target_label and res[2][0] == true_label and res[3][0] == true_label else False\n",
    "        elif subset == '13':\n",
    "            output = True if res[0][0] == target_label and res[1][0] == true_label and res[2][0] == target_label and res[3][0] == true_label else False\n",
    "        elif subset == '14':\n",
    "            output = True if res[0][0] == target_label and res[1][0] == true_label and res[2][0] == true_label and res[3][0] == target_label else False\n",
    "        elif subset == '23':\n",
    "            output = True if res[0][0] == true_label and res[1][0] == target_label and res[2][0] == target_label and res[3][0] == true_label else False\n",
    "        elif subset == '24':\n",
    "            output = True if res[0][0] == true_label and res[1][0] == target_label and res[2][0] == true_label and res[3][0] == target_label else False\n",
    "        elif subset == '34':\n",
    "            output = True if res[0][0] == true_label and res[1][0] == true_label and res[2][0] == target_label and res[3][0] == target_label else False\n",
    "        elif subset == '123':\n",
    "            output = True if res[0][0] == target_label and res[1][0] == target_label and res[2][0] == target_label and res[3][0] == true_label else False\n",
    "        elif subset == '124':\n",
    "            output = True if res[0][0] == target_label and res[1][0] == target_label and res[2][0] == true_label and res[3][0] == target_label else False\n",
    "        elif subset == '134':\n",
    "            output = True if res[0][0] == target_label and res[1][0] == true_label and res[2][0] == target_label and res[3][0] == target_label else False\n",
    "        elif subset == '234':\n",
    "            output = True if res[0][0] == true_label and res[1][0] == target_label and res[2][0] == target_label and res[3][0] == target_label else False\n",
    "        elif subset == '1234':\n",
    "            output = True if res[0][0] == target_label and res[1][0] == target_label and res[2][0] == target_label and res[3][0] == target_label else False\n",
    "            \n",
    "        if output:\n",
    "            correct.append(l.index(res))\n",
    "    return correct"
   ]
  },
  {
   "cell_type": "code",
   "execution_count": 30,
   "metadata": {},
   "outputs": [
    {
     "name": "stdout",
     "output_type": "stream",
     "text": [
      "0.78\n"
     ]
    }
   ],
   "source": [
    "prob = []\n",
    "correct = []\n",
    "total_correct = 0\n",
    "for i in range(len(one_attack)):\n",
    "    correct.append(check_correct(str(i+1), 25, one_attack[i], 4))\n",
    "for elem in correct: \n",
    "    total_correct += len(elem)\n",
    "print(total_correct / 100)\n",
    "prob.append(total_correct/100)"
   ]
  },
  {
   "cell_type": "code",
   "execution_count": 32,
   "metadata": {},
   "outputs": [
    {
     "name": "stdout",
     "output_type": "stream",
     "text": [
      "0.5933333333333334\n"
     ]
    }
   ],
   "source": [
    "correct = []\n",
    "total_correct = 0\n",
    "correct.append(check_correct('12', 25, adv12, 4))\n",
    "correct.append(check_correct('13', 25, adv13, 4))\n",
    "correct.append(check_correct('14', 25, adv14, 4))\n",
    "correct.append(check_correct('23', 25, adv23, 4))\n",
    "correct.append(check_correct('24', 25, adv24, 4))\n",
    "correct.append(check_correct('34', 25, adv34, 4))\n",
    "for elem in correct: \n",
    "    total_correct += len(elem)\n",
    "print(total_correct / 150)\n",
    "prob.append(total_correct / 150)"
   ]
  },
  {
   "cell_type": "code",
   "execution_count": 33,
   "metadata": {},
   "outputs": [
    {
     "name": "stdout",
     "output_type": "stream",
     "text": [
      "0.63\n"
     ]
    }
   ],
   "source": [
    "correct = []\n",
    "total_correct = 0\n",
    "correct.append(check_correct('123', 25, adv123, 4))\n",
    "correct.append(check_correct('124', 25, adv124, 4))\n",
    "correct.append(check_correct('134', 25, adv134, 4))\n",
    "correct.append(check_correct('234', 25, adv234, 4))\n",
    "for elem in correct: \n",
    "    total_correct += len(elem)\n",
    "print(total_correct / 100)\n",
    "prob.append(total_correct / 100)"
   ]
  },
  {
   "cell_type": "code",
   "execution_count": 34,
   "metadata": {},
   "outputs": [
    {
     "name": "stdout",
     "output_type": "stream",
     "text": [
      "0.48\n"
     ]
    }
   ],
   "source": [
    "correct = []\n",
    "total_correct = 0\n",
    "correct.append(check_correct('1234', 25, adv1234, 4))\n",
    "for elem in correct: \n",
    "    total_correct += len(elem)\n",
    "print(total_correct / 25)\n",
    "prob.append(total_correct / 25)"
   ]
  },
  {
   "cell_type": "code",
   "execution_count": 41,
   "metadata": {},
   "outputs": [
    {
     "data": {
      "image/png": "[encoded data removed]",
      "text/plain": [
       "<Figure size 432x288 with 1 Axes>"
      ]
     },
     "metadata": {
      "needs_background": "light"
     },
     "output_type": "display_data"
    }
   ],
   "source": [
    "from matplotlib.ticker import (AutoLocator, AutoMinorLocator)\n",
    "\n",
    "M = [1, 2, 3, 4]\n",
    "N = [3, 2, 1, 0]\n",
    "\n",
    "plt.plot(M, prob, linestyle='-', marker='o')\n",
    "plt.xticks(M, ['1', '2', '3', '4'])\n",
    "plt.xlabel('Number of Attacked Models (#)')\n",
    "plt.ylabel('Probability of Attack Success (%)')\n",
    "ax = plt.gca()\n",
    "ax.tick_params(axis=u'both', which=u'both',length=0)\n",
    "fig = plt.gcf()\n",
    "plt.grid()\n",
    "plt.show()\n",
    "fig.savefig('plots_and_figures/probability_of_attack_CW_four.png')"
   ]
  },
  {
   "cell_type": "code",
   "execution_count": 45,
   "metadata": {},
   "outputs": [],
   "source": [
    "adv_1 = np.load('1-1_adv.csv.npy')\n",
    "inp_1 = np.load('1-1_inputs.csv.npy')\n",
    "adv_baseline = np.load('four_subset_data/adv_att_baseline.csv.npy')\n",
    "inp_baseline = np.load('four_subset_data/inputs_att__baseline.csv.npy')"
   ]
  },
  {
   "cell_type": "code",
   "execution_count": 75,
   "metadata": {},
   "outputs": [],
   "source": [
    "p11 = round(np.sum(np.abs(adv_1[0] - inp_1[0])), 2)\n",
    "pb = round(np.sum(np.abs(adv_baseline[0] - inp_baseline[0])), 2)\n",
    "p1 = round(np.sum(np.abs(adv1[0] - inp1[0])), 2)\n",
    "p2 = round(np.sum(np.abs(adv13[0] - inp13[0])), 2)\n",
    "p3 = round(np.sum(np.abs(adv123[0] - inp123[0])), 2)\n",
    "p4 = round(np.sum(np.abs(adv1234[0] - inp1234[0])), 2)"
   ]
  },
  {
   "cell_type": "code",
   "execution_count": 78,
   "metadata": {},
   "outputs": [
    {
     "data": {
      "image/png": "[encoded data removed]",
      "text/plain": [
       "<Figure size 1080x10800 with 6 Axes>"
      ]
     },
     "metadata": {
      "needs_background": "light"
     },
     "output_type": "display_data"
    }
   ],
   "source": [
    "fig, (ax1, ax2, ax3, ax4, ax5, ax6) = plt.subplots(1, 6, figsize=(15, 150))\n",
    "ax1.axis('off')\n",
    "ax1.imshow(adv_baseline[0][:,:,0])\n",
    "ax2.axis('off')\n",
    "ax2.imshow(adv_1[0][:,:,0])\n",
    "ax3.axis('off')\n",
    "ax3.imshow(adv1[0][:,:,0])\n",
    "ax4.axis('off')\n",
    "ax4.imshow(adv13[0][:,:,0])\n",
    "ax5.axis('off')\n",
    "ax5.imshow(adv123[0][:,:,0])\n",
    "ax6.axis('off')\n",
    "ax6.imshow(adv1234[0][:,:,0])\n",
    "\n",
    "ax1.text(0.5, -0.2, '1-0 :' + str(pb), size=12, ha=\"center\", \n",
    "         transform=ax1.transAxes)\n",
    "ax2.text(0.5,-0.2, '1-1 : ' + str(p11), size=12, ha=\"center\", \n",
    "         transform=ax2.transAxes)\n",
    "ax3.text(0.5, -0.2, '1-3 : ' + str(p1), size=12, ha=\"center\", \n",
    "         transform=ax3.transAxes)\n",
    "ax4.text(0.5,-0.2, '2-2 : ' + str(p2), size=12, ha=\"center\", \n",
    "         transform=ax4.transAxes)\n",
    "ax5.text(0.5, -0.2, '3-1 : ' + str(p3), size=12, ha=\"center\", \n",
    "         transform=ax5.transAxes)\n",
    "ax6.text(0.5,-0.2, '4-0 : ' + str(p4), size=12, ha=\"center\", \n",
    "         transform=ax6.transAxes)\n",
    "\n",
    "ax1.margins(0,0)\n",
    "ax2.margins(0,0)\n",
    "ax3.margins(0,0)\n",
    "ax4.margins(0,0)\n",
    "ax5.margins(0,0)\n",
    "ax6.margins(0,0)\n",
    "fig.savefig('attacks_and_perturbations.pdf', bbox_inches = 'tight', pad_inches = 0)"
   ]
  },
  {
   "cell_type": "code",
   "execution_count": 3,
   "metadata": {},
   "outputs": [],
   "source": [
    "adv1 = np.load('adversarial_data/adv_dual_att_def_0.csv.npy')\n",
    "adv1.shape"
   ]
  },
  {
   "cell_type": "code",
   "execution_count": 13,
   "metadata": {},
   "outputs": [],
   "source": [
    "def avg_probability(adv, model):\n",
    "    pr_true_avg = 0\n",
    "    for i in range(0, len(adv)):\n",
    "        pr_true_avg += get_label_probabilities(adv[i][np.newaxis, ...], model)[0][0]\n",
    "    return pr_true_avg / len(adv)\n",
    "\n",
    "def get_label_probabilities(image, model):\n",
    "    pr = model.predict(image)\n",
    "    pr = np.array([np.exp(x) for x in pr])\n",
    "    return pr / np.sum(pr)"
   ]
  },
  {
   "cell_type": "code",
   "execution_count": 15,
   "metadata": {},
   "outputs": [
    {
     "data": {
      "text/plain": [
       "0.8427116149663925"
      ]
     },
     "execution_count": 15,
     "metadata": {},
     "output_type": "execute_result"
    }
   ],
   "source": [
    "avg_probability(adv1, model5.model)"
   ]
  },
  {
   "cell_type": "code",
   "execution_count": null,
   "metadata": {},
   "outputs": [],
   "source": []
  }
 ],
 "metadata": {
  "kernelspec": {
   "display_name": "Python 3",
   "language": "python",
   "name": "python3"
  },
  "language_info": {
   "codemirror_mode": {
    "name": "ipython",
    "version": 3
   },
   "file_extension": ".py",
   "mimetype": "text/x-python",
   "name": "python",
   "nbconvert_exporter": "python",
   "pygments_lexer": "ipython3",
   "version": "3.6.8"
  }
 },
 "nbformat": 4,
 "nbformat_minor": 4
}
