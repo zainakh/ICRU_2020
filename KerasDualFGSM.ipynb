{
 "cells": [
  {
   "cell_type": "code",
   "execution_count": 142,
   "metadata": {},
   "outputs": [],
   "source": [
    "from __future__ import absolute_import, division, print_function, unicode_literals\n",
    "\n",
    "import tensorflow as tf\n",
    "import tensorflow.keras.backend as K\n",
    "import numpy as np\n",
    "import matplotlib as mpl\n",
    "import matplotlib.pyplot as plt\n",
    "\n",
    "mpl.rcParams['figure.figsize'] = (8, 8)\n",
    "mpl.rcParams['axes.grid'] = False"
   ]
  },
  {
   "cell_type": "code",
   "execution_count": 143,
   "metadata": {},
   "outputs": [],
   "source": [
    "mnist = tf.keras.datasets.mnist\n",
    "\n",
    "(x_train, y_train), (x_test, y_test) = mnist.load_data()\n",
    "x_train, x_test = x_train / 255.0, x_test / 255.0"
   ]
  },
  {
   "cell_type": "code",
   "execution_count": 144,
   "metadata": {},
   "outputs": [
    {
     "data": {
      "image/png": "[encoded data removed]",
      "text/plain": [
       "<Figure size 576x576 with 1 Axes>"
      ]
     },
     "metadata": {
      "needs_background": "light"
     },
     "output_type": "display_data"
    }
   ],
   "source": [
    "plt.figure()\n",
    "plt.imshow(x_train[0])\n",
    "plt.show()"
   ]
  },
  {
   "cell_type": "code",
   "execution_count": 145,
   "metadata": {},
   "outputs": [],
   "source": [
    "model = tf.keras.models.Sequential([\n",
    "  tf.keras.layers.Flatten(input_shape=(28, 28)),\n",
    "  tf.keras.layers.Dense(128, activation='relu'),\n",
    "  tf.keras.layers.Dropout(0.2),\n",
    "  tf.keras.layers.Dense(10, activation='softmax')\n",
    "])\n",
    "\n",
    "model.compile(optimizer='adam',\n",
    "              loss='sparse_categorical_crossentropy',\n",
    "              metrics=['accuracy'])"
   ]
  },
  {
   "cell_type": "code",
   "execution_count": 146,
   "metadata": {},
   "outputs": [
    {
     "name": "stdout",
     "output_type": "stream",
     "text": [
      "Epoch 1/5\n",
      "60000/60000 [==============================] - 4s 62us/sample - loss: 0.2945 - acc: 0.9147\n",
      "Epoch 2/5\n",
      "60000/60000 [==============================] - 3s 56us/sample - loss: 0.1419 - acc: 0.9580\n",
      "Epoch 3/5\n",
      "60000/60000 [==============================] - 3s 55us/sample - loss: 0.1080 - acc: 0.9674\n",
      "Epoch 4/5\n",
      "60000/60000 [==============================] - 3s 55us/sample - loss: 0.0881 - acc: 0.9730\n",
      "Epoch 5/5\n",
      "60000/60000 [==============================] - 3s 56us/sample - loss: 0.0743 - acc: 0.9763\n",
      "10000/10000 - 1s - loss: 0.0749 - acc: 0.9758\n"
     ]
    },
    {
     "data": {
      "text/plain": [
       "[0.07492752506698017, 0.9758]"
      ]
     },
     "execution_count": 146,
     "metadata": {},
     "output_type": "execute_result"
    }
   ],
   "source": [
    "model.fit(x_train, y_train, epochs=5)\n",
    "model.evaluate(x_test,  y_test, verbose=2)"
   ]
  },
  {
   "cell_type": "code",
   "execution_count": 168,
   "metadata": {},
   "outputs": [
    {
     "data": {
      "text/plain": [
       "'Predicted 5 : 0.99941'"
      ]
     },
     "execution_count": 168,
     "metadata": {},
     "output_type": "execute_result"
    }
   ],
   "source": [
    "test_img = x_train[0]\n",
    "\n",
    "def get_label_confidence(image, model):\n",
    "    pr = model.predict(image.reshape(1, 28, 28))\n",
    "    image_class = model.predict_classes(image.reshape(1, 28, 28))\n",
    "    return 'Predicted {} : {:.7f}'.format(image_class[0], max(max(pr)))\n",
    "   \n",
    "get_label_confidence(test_img, model)"
   ]
  },
  {
   "cell_type": "code",
   "execution_count": 148,
   "metadata": {},
   "outputs": [
    {
     "name": "stdout",
     "output_type": "stream",
     "text": [
      "Tensor(\"one_hot_170:0\", shape=(10,), dtype=float32)\n"
     ]
    }
   ],
   "source": [
    "image_probs = model.predict(test_img.reshape(1, 28, 28))\n",
    "label = tf.one_hot(5, image_probs.shape[-1])\n",
    "print(label)"
   ]
  },
  {
   "cell_type": "code",
   "execution_count": 149,
   "metadata": {},
   "outputs": [],
   "source": [
    "model2 = tf.keras.models.Sequential([\n",
    "  tf.keras.layers.Flatten(input_shape=(28, 28)),\n",
    "  tf.keras.layers.Dense(128, activation='relu'),\n",
    "  tf.keras.layers.Dropout(0.2),\n",
    "  tf.keras.layers.Dense(10, activation='softmax')\n",
    "])\n",
    "\n",
    "model2.compile(optimizer='adam',\n",
    "              loss='sparse_categorical_crossentropy',\n",
    "              metrics=['accuracy'])"
   ]
  },
  {
   "cell_type": "code",
   "execution_count": 150,
   "metadata": {},
   "outputs": [
    {
     "name": "stdout",
     "output_type": "stream",
     "text": [
      "Epoch 1/5\n",
      "60000/60000 [==============================] - 4s 62us/sample - loss: 0.2945 - acc: 0.9142\n",
      "Epoch 2/5\n",
      "60000/60000 [==============================] - 3s 56us/sample - loss: 0.1447 - acc: 0.9577\n",
      "Epoch 3/5\n",
      "60000/60000 [==============================] - 3s 56us/sample - loss: 0.1092 - acc: 0.9667\n",
      "Epoch 4/5\n",
      "60000/60000 [==============================] - 3s 58us/sample - loss: 0.0888 - acc: 0.9732\n",
      "Epoch 5/5\n",
      "60000/60000 [==============================] - 4s 59us/sample - loss: 0.0756 - acc: 0.9764\n",
      "10000/10000 - 1s - loss: 0.0724 - acc: 0.9763\n"
     ]
    },
    {
     "data": {
      "text/plain": [
       "[0.07239134791265242, 0.9763]"
      ]
     },
     "execution_count": 150,
     "metadata": {},
     "output_type": "execute_result"
    }
   ],
   "source": [
    "model2.fit(x_train, y_train, epochs=5)\n",
    "model2.evaluate(x_test,  y_test, verbose=2)"
   ]
  },
  {
   "cell_type": "code",
   "execution_count": 189,
   "metadata": {},
   "outputs": [],
   "source": [
    "sess = K.get_session()\n",
    "x = x_train[0]\n",
    "x = np.reshape(x, (1, 28, 28))\n",
    "x_adv = x\n",
    "x_noise = np.zeros_like(x)"
   ]
  },
  {
   "cell_type": "code",
   "execution_count": 190,
   "metadata": {},
   "outputs": [
    {
     "name": "stdout",
     "output_type": "stream",
     "text": [
      "Initial Results\n",
      "Model 1 - Predicted 5 : 0.99941\n",
      "Model 2 - Predicted 5 : 0.99886\n"
     ]
    }
   ],
   "source": [
    "model1_initial = 'Model 1 - ' + get_label_confidence(x_adv, model)\n",
    "model2_initial = 'Model 2 - ' + get_label_confidence(x_adv, model2)\n",
    "print('Initial Results')\n",
    "print(model1_initial)\n",
    "print(model2_initial)"
   ]
  },
  {
   "cell_type": "code",
   "execution_count": 194,
   "metadata": {},
   "outputs": [
    {
     "name": "stdout",
     "output_type": "stream",
     "text": [
      "Attacked NN Results on FGSM\n",
      "Epoch: 0 \t Targeted 2 : 3.9431903e-08 \t Predicted 5 : 0.99612\n",
      "Epoch: 10 \t Targeted 2 : 0.9822525 \t Predicted 2 : 0.98225\n",
      "Epoch: 20 \t Targeted 2 : 0.99991465 \t Predicted 2 : 0.99991\n"
     ]
    }
   ],
   "source": [
    "# Set variables\n",
    "epochs = 21\n",
    "epsilon = 0.01\n",
    "true_class = 5\n",
    "target_class = 2\n",
    "prev_probs = []\n",
    "\n",
    "print('Attacked NN Results on FGSM')\n",
    "\n",
    "for i in range(epochs): \n",
    "    # One hot encode the target class\n",
    "    target = K.one_hot(target_class, 10)\n",
    "    true = K.one_hot(true_class, 10)\n",
    "    \n",
    "    # Get the loss and gradient of the loss wrt the inputs\n",
    "    loss = -1 * K.categorical_crossentropy(target, model.output) + K.categorical_crossentropy(true, model2.output)\n",
    "    grads = K.gradients(loss, model.input)\n",
    "\n",
    "    # Get the sign of the gradient\n",
    "    #delta = K.sign(grads[0])\n",
    "    delta = grads[0]\n",
    "    x_noise = x_noise + delta\n",
    "\n",
    "    # Perturb the image\n",
    "    x_adv = x_adv + epsilon*delta\n",
    "\n",
    "    # Get the new image and predictions\n",
    "    x_adv = sess.run(x_adv, feed_dict={model.input:x})\n",
    "    preds = model.predict(x_adv)\n",
    "\n",
    "    # Store the probability of the target class\n",
    "    prev_probs.append(preds[0][target_class])\n",
    "\n",
    "    if i%10 == 0:\n",
    "        top_pred = get_label_confidence(x_adv, model)\n",
    "        print('Epoch:', i, '\\t', 'Targeted', target_class, ':',\n",
    "              preds[0][target_class], '\\t', top_pred)"
   ]
  },
  {
   "cell_type": "code",
   "execution_count": 195,
   "metadata": {},
   "outputs": [
    {
     "name": "stdout",
     "output_type": "stream",
     "text": [
      "Final Results\n",
      "Model 1 - Predicted 2 : 0.99991\n",
      "Model 2 - Predicted 2 : 1.00000\n"
     ]
    }
   ],
   "source": [
    "model1_final = 'Model 1 - ' + get_label_confidence(x_adv, model)\n",
    "model2_final = 'Model 2 - ' + get_label_confidence(x_adv, model2)\n",
    "print('Final Results')\n",
    "print(model1_final)\n",
    "print(model2_final)"
   ]
  },
  {
   "cell_type": "code",
   "execution_count": 196,
   "metadata": {},
   "outputs": [
    {
     "data": {
      "image/png": "[encoded data removed]",
      "text/plain": [
       "<Figure size 576x576 with 1 Axes>"
      ]
     },
     "metadata": {
      "needs_background": "light"
     },
     "output_type": "display_data"
    }
   ],
   "source": [
    "plt.imshow(x_adv[0])\n",
    "plt.show()"
   ]
  },
  {
   "cell_type": "code",
   "execution_count": 197,
   "metadata": {},
   "outputs": [
    {
     "data": {
      "image/png": "[encoded data removed]",
      "text/plain": [
       "<Figure size 576x576 with 1 Axes>"
      ]
     },
     "metadata": {
      "needs_background": "light"
     },
     "output_type": "display_data"
    }
   ],
   "source": [
    "plt.imshow(x_adv[0] - x[0])\n",
    "plt.show()"
   ]
  },
  {
   "cell_type": "code",
   "execution_count": null,
   "metadata": {},
   "outputs": [],
   "source": []
  }
 ],
 "metadata": {
  "kernelspec": {
   "display_name": "Python 3",
   "language": "python",
   "name": "python3"
  },
  "language_info": {
   "codemirror_mode": {
    "name": "ipython",
    "version": 3
   },
   "file_extension": ".py",
   "mimetype": "text/x-python",
   "name": "python",
   "nbconvert_exporter": "python",
   "pygments_lexer": "ipython3",
   "version": "3.6.8"
  }
 },
 "nbformat": 4,
 "nbformat_minor": 4
}
